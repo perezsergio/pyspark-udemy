{
 "cells": [
  {
   "cell_type": "code",
   "execution_count": 1,
   "metadata": {},
   "outputs": [
    {
     "name": "stderr",
     "output_type": "stream",
     "text": [
      "23/12/19 11:31:12 WARN Utils: Your hostname, perezs-zeenbook resolves to a loopback address: 127.0.1.1; using 192.168.7.202 instead (on interface wlo1)\n",
      "23/12/19 11:31:12 WARN Utils: Set SPARK_LOCAL_IP if you need to bind to another address\n",
      "Setting default log level to \"WARN\".\n",
      "To adjust logging level use sc.setLogLevel(newLevel). For SparkR, use setLogLevel(newLevel).\n",
      "23/12/19 11:31:13 WARN NativeCodeLoader: Unable to load native-hadoop library for your platform... using builtin-java classes where applicable\n"
     ]
    }
   ],
   "source": [
    "from pyspark.sql import SparkSession\n",
    "from pyspark.sql import functions as F\n",
    "\n",
    "spark = SparkSession.builder.appName(\"LinearRegression\").getOrCreate()"
   ]
  },
  {
   "cell_type": "code",
   "execution_count": 2,
   "metadata": {},
   "outputs": [
    {
     "name": "stdout",
     "output_type": "stream",
     "text": [
      "+-----+-----+\n",
      "|    x|    y|\n",
      "+-----+-----+\n",
      "|-1.74| 1.66|\n",
      "| 1.24|-1.18|\n",
      "| 0.29| -0.4|\n",
      "|-0.13| 0.09|\n",
      "|-0.39| 0.38|\n",
      "+-----+-----+\n",
      "only showing top 5 rows\n",
      "\n"
     ]
    }
   ],
   "source": [
    "df = spark.read.csv(\"../data/regression.txt\", sep=\",\", inferSchema=True)\n",
    "\n",
    "column_names = [\"x\", \"y\"]\n",
    "df = df.toDF(*column_names)\n",
    "\n",
    "df.show(5)"
   ]
  },
  {
   "cell_type": "code",
   "execution_count": 3,
   "metadata": {},
   "outputs": [],
   "source": [
    "from pyspark.ml.tuning import CrossValidator, ParamGridBuilder\n",
    "from pyspark.ml.feature import VectorAssembler, StandardScaler\n",
    "from pyspark.ml.regression import LinearRegression\n",
    "from pyspark.ml import Pipeline\n",
    "from pyspark.ml.evaluation import RegressionEvaluator\n",
    "from pyspark.ml.tuning import ParamGridBuilder, CrossValidator\n",
    "\n",
    "\n",
    "# train test split\n",
    "df_ = df.withColumnRenamed(\"y\", \"label\")\n",
    "train, test = df_.randomSplit([0.8, 0.2], seed=42)\n",
    "\n",
    "# Create model pipeline\n",
    "# The regressor should be fed a 'features' column containing a vector with all the features\n",
    "# and a 'label' column\n",
    "vector_assembler = VectorAssembler(inputCols=[\"x\"], outputCol=\"x_vectorized\")\n",
    "std_scaler = StandardScaler(inputCol=\"x_vectorized\", outputCol=\"features\")\n",
    "lin_reg = LinearRegression()\n",
    "pipe = Pipeline(stages=[vector_assembler, std_scaler, lin_reg])\n",
    "\n",
    "# param grid for the regressor\n",
    "paramGrid = (\n",
    "    ParamGridBuilder()\n",
    "    .addGrid(lin_reg.regParam, [0.01, 0.1, 1])\n",
    "    .addGrid(lin_reg.fitIntercept, [False, True])\n",
    "    .addGrid(lin_reg.elasticNetParam, [0.0, 0.5, 1.0])\n",
    "    .build()\n",
    ")\n",
    "\n",
    "# create CrossValidator object\n",
    "rmse_evaluator = RegressionEvaluator(metricName=\"rmse\")\n",
    "crossval = CrossValidator(\n",
    "    estimator=pipe,\n",
    "    estimatorParamMaps=paramGrid,\n",
    "    evaluator=rmse_evaluator,\n",
    "    numFolds=3,\n",
    "    seed=42,\n",
    ")  # use 3+ folds in practice\n",
    "\n",
    "# Fit CrossValidator\n",
    "cvModel = crossval.fit(train)"
   ]
  },
  {
   "cell_type": "code",
   "execution_count": 4,
   "metadata": {},
   "outputs": [
    {
     "name": "stdout",
     "output_type": "stream",
     "text": [
      "Best params: \n",
      "regParam 0.01\n",
      "fitIntercept False\n",
      "elasticNetParam 0.0\n",
      "Cross Validation Error:  0.10226\n",
      "Training Error:  0.10199\n"
     ]
    }
   ],
   "source": [
    "import numpy as np\n",
    "\n",
    "# print best params\n",
    "print(\"Best params: \")\n",
    "for param_info, param_value in cvModel.getEstimatorParamMaps()[\n",
    "    np.argmin(cvModel.avgMetrics)\n",
    "].items():\n",
    "    param_name = param_info.name\n",
    "    print(param_name, param_value)\n",
    "\n",
    "# print evaluations metrics\n",
    "cv_error = min(cvModel.avgMetrics)\n",
    "print(\"Cross Validation Error: \", round(cv_error, 5))\n",
    "training_error = rmse_evaluator.evaluate(cvModel.transform(train))\n",
    "print(\"Training Error: \", round(training_error, 5))"
   ]
  },
  {
   "cell_type": "code",
   "execution_count": 5,
   "metadata": {},
   "outputs": [
    {
     "name": "stdout",
     "output_type": "stream",
     "text": [
      "Test Error:  0.09352\n"
     ]
    }
   ],
   "source": [
    "# print test error\n",
    "test_error = rmse_evaluator.evaluate(cvModel.transform(test))\n",
    "print(\"Test Error: \", round(test_error, 5))"
   ]
  },
  {
   "cell_type": "code",
   "execution_count": 6,
   "metadata": {},
   "outputs": [
    {
     "name": "stdout",
     "output_type": "stream",
     "text": [
      "+-----+-----+-------------------+\n",
      "|    x|label|         prediction|\n",
      "+-----+-----+-------------------+\n",
      "|-1.74| 1.66| 1.7140814699495912|\n",
      "| 1.24|-1.18|-1.2215293234123523|\n",
      "| 0.29| -0.4|-0.2856802449915985|\n",
      "|-0.13| 0.09|0.12806355809968212|\n",
      "|-0.39| 0.38|0.38419067429904635|\n",
      "+-----+-----+-------------------+\n",
      "only showing top 5 rows\n",
      "\n"
     ]
    }
   ],
   "source": [
    "# Fit model to the whole dataset\n",
    "\n",
    "# final model\n",
    "vector_assembler = VectorAssembler(inputCols=[\"x\"], outputCol=\"x_vectorized\")\n",
    "std_scaler = StandardScaler(inputCol=\"x_vectorized\", outputCol=\"features\")\n",
    "lin_reg = LinearRegression(regParam=0.01, fitIntercept=False, elasticNetParam=0)\n",
    "pipe = Pipeline(stages=[vector_assembler, std_scaler, lin_reg])\n",
    "\n",
    "# fit and predict\n",
    "df_ = df.withColumnRenamed(\"y\", \"label\")\n",
    "df_pred = pipe.fit(df_).transform(df_).select([\"x\", \"label\", \"prediction\"])\n",
    "df_pred.show(5)"
   ]
  },
  {
   "cell_type": "code",
   "execution_count": 7,
   "metadata": {},
   "outputs": [],
   "source": [
    "spark.stop()"
   ]
  }
 ],
 "metadata": {
  "kernelspec": {
   "display_name": "pyspark",
   "language": "python",
   "name": "python3"
  },
  "language_info": {
   "codemirror_mode": {
    "name": "ipython",
    "version": 3
   },
   "file_extension": ".py",
   "mimetype": "text/x-python",
   "name": "python",
   "nbconvert_exporter": "python",
   "pygments_lexer": "ipython3",
   "version": "3.11.5"
  }
 },
 "nbformat": 4,
 "nbformat_minor": 2
}
