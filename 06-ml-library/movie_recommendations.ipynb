{
 "cells": [
  {
   "cell_type": "code",
   "execution_count": 3,
   "metadata": {},
   "outputs": [],
   "source": [
    "from pyspark.sql import SparkSession\n",
    "from pyspark.sql import functions as F\n",
    "\n",
    "spark = SparkSession.builder.appName(\"MovieRecommendations\").getOrCreate()"
   ]
  },
  {
   "cell_type": "code",
   "execution_count": 4,
   "metadata": {},
   "outputs": [
    {
     "name": "stdout",
     "output_type": "stream",
     "text": [
      "+----+----+------+\n",
      "|user|item|rating|\n",
      "+----+----+------+\n",
      "| 196| 242|     3|\n",
      "| 186| 302|     3|\n",
      "|  22| 377|     1|\n",
      "| 244|  51|     2|\n",
      "| 166| 346|     1|\n",
      "+----+----+------+\n",
      "only showing top 5 rows\n",
      "\n"
     ]
    }
   ],
   "source": [
    "# read csv\n",
    "movie_ratings = spark.read.csv(\"../data/ml-100k/u.data\", sep=\"\\t\", inferSchema=True)\n",
    "# we only care about 2nd and 3rd column\n",
    "movie_ratings = movie_ratings.select([\"_c0\", \"_c1\", \"_c2\"])\n",
    "# descriptive column names\n",
    "column_names = [\"user\", \"item\", \"rating\"]\n",
    "movie_ratings = movie_ratings.toDF(*column_names)\n",
    "\n",
    "movie_ratings.show(5)"
   ]
  },
  {
   "cell_type": "code",
   "execution_count": 5,
   "metadata": {},
   "outputs": [],
   "source": [
    "from pyspark.ml.recommendation import ALS\n",
    "\n",
    "als = ALS(seed=42)\n",
    "model = als.fit(movie_ratings)"
   ]
  },
  {
   "cell_type": "code",
   "execution_count": 6,
   "metadata": {},
   "outputs": [],
   "source": [
    "# recommend 1 movie to each user\n",
    "user_recs = model.recommendForAllUsers(1)"
   ]
  },
  {
   "cell_type": "code",
   "execution_count": 7,
   "metadata": {},
   "outputs": [
    {
     "name": "stderr",
     "output_type": "stream",
     "text": [
      "[Stage 80:=============================================>         (82 + 8) / 100]\r"
     ]
    },
    {
     "name": "stdout",
     "output_type": "stream",
     "text": [
      "+----+--------+----------------+\n",
      "|user|movie_id|predicted_rating|\n",
      "+----+--------+----------------+\n",
      "|   1|    1463|        5.122655|\n",
      "|   2|    1643|       5.0821095|\n",
      "|   3|    1463|        5.146367|\n",
      "|   4|    1466|       5.5968733|\n",
      "|   5|     114|       4.6203103|\n",
      "+----+--------+----------------+\n",
      "only showing top 5 rows\n",
      "\n"
     ]
    },
    {
     "name": "stderr",
     "output_type": "stream",
     "text": [
      "                                                                                \r"
     ]
    }
   ],
   "source": [
    "# create more readable columns\n",
    "user_recs = user_recs.withColumn(\n",
    "    \"movie_id\", user_recs[\"recommendations\"][0].item\n",
    ").withColumn(\"predicted_rating\", user_recs[\"recommendations\"][0].rating)\n",
    "\n",
    "# drop old column\n",
    "user_recs = user_recs.drop(\"recommendations\")\n",
    "\n",
    "user_recs.show(5)"
   ]
  },
  {
   "cell_type": "code",
   "execution_count": 8,
   "metadata": {},
   "outputs": [
    {
     "name": "stdout",
     "output_type": "stream",
     "text": [
      "+--------+----------+\n",
      "|movie_id|movie_name|\n",
      "+--------+----------+\n",
      "|       1| Toy Story|\n",
      "|       2| GoldenEye|\n",
      "|       3|Four Rooms|\n",
      "|       4|Get Shorty|\n",
      "|       5|   Copycat|\n",
      "+--------+----------+\n",
      "only showing top 5 rows\n",
      "\n"
     ]
    }
   ],
   "source": [
    "# read csv\n",
    "movie_info = spark.read.csv(\"../data/ml-100k/u.item\", sep=\"|\", inferSchema=True)\n",
    "# we only care about 2nd and 3rd column\n",
    "movie_info = movie_info.select([\"_c0\", \"_c1\"])\n",
    "# The column '_c1' contains movie name and date, we only want the name\n",
    "movie_info = movie_info.withColumn(\"_c1\", F.split(\"_c1\", pattern=\" \\(\")[0])\n",
    "# descriptive column names\n",
    "column_names = [\"movie_id\", \"movie_name\"]\n",
    "movie_info = movie_info.toDF(*column_names)\n",
    "\n",
    "movie_info.show(5)"
   ]
  },
  {
   "cell_type": "code",
   "execution_count": 9,
   "metadata": {},
   "outputs": [
    {
     "name": "stderr",
     "output_type": "stream",
     "text": [
      "                                                                                \r"
     ]
    },
    {
     "name": "stdout",
     "output_type": "stream",
     "text": [
      "+----+--------+--------------------+----------------+\n",
      "|user|movie_id|          movie_name|predicted_rating|\n",
      "+----+--------+--------------------+----------------+\n",
      "|   1|    1463|           Boys, Les|        5.122655|\n",
      "|   2|    1643|          Angel Baby|       5.0821095|\n",
      "|   3|    1463|           Boys, Les|        5.146367|\n",
      "|   4|    1466|   Margaret's Museum|       5.5968733|\n",
      "|   5|     114|Wallace & Gromit:...|       4.6203103|\n",
      "+----+--------+--------------------+----------------+\n",
      "only showing top 5 rows\n",
      "\n"
     ]
    }
   ],
   "source": [
    "# join movie_info to movie_ratings so that movie_ratings now displays the movie name\n",
    "named_user_recs = user_recs.join(movie_info, \"movie_id\", \"left\")\n",
    "\n",
    "# reorder columns\n",
    "named_user_recs = named_user_recs.select(\n",
    "    [\"user\", \"movie_id\", \"movie_name\", \"predicted_rating\"]\n",
    ")\n",
    "\n",
    "named_user_recs.show(5)"
   ]
  },
  {
   "cell_type": "markdown",
   "metadata": {},
   "source": [
    "To analyze the results it may be useful to manually create users with predictable\n",
    "behavior.\n",
    "For example, you can create a user 0 with your own personal preferences\n",
    "and see if the model's recommendations are any good.\n"
   ]
  },
  {
   "cell_type": "markdown",
   "metadata": {},
   "source": [
    "If you tried that, you could see that the recommendations are not very good.\n",
    "Why? It's complicated, recommendation is a full ML problem by itself.\n",
    "So basically, never blindly trust the results of a black box.\n"
   ]
  },
  {
   "cell_type": "code",
   "execution_count": 10,
   "metadata": {},
   "outputs": [],
   "source": [
    "spark.stop()"
   ]
  }
 ],
 "metadata": {
  "kernelspec": {
   "display_name": "pyspark",
   "language": "python",
   "name": "python3"
  },
  "language_info": {
   "codemirror_mode": {
    "name": "ipython",
    "version": 3
   },
   "file_extension": ".py",
   "mimetype": "text/x-python",
   "name": "python",
   "nbconvert_exporter": "python",
   "pygments_lexer": "ipython3",
   "version": "3.11.5"
  }
 },
 "nbformat": 4,
 "nbformat_minor": 2
}
