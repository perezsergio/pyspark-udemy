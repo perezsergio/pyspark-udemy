{
 "cells": [
  {
   "cell_type": "code",
   "execution_count": 1,
   "metadata": {},
   "outputs": [
    {
     "name": "stderr",
     "output_type": "stream",
     "text": [
      "23/12/19 11:59:53 WARN Utils: Your hostname, perezs-zeenbook resolves to a loopback address: 127.0.1.1; using 192.168.7.202 instead (on interface wlo1)\n",
      "23/12/19 11:59:53 WARN Utils: Set SPARK_LOCAL_IP if you need to bind to another address\n",
      "Setting default log level to \"WARN\".\n",
      "To adjust logging level use sc.setLogLevel(newLevel). For SparkR, use setLogLevel(newLevel).\n",
      "23/12/19 11:59:53 WARN NativeCodeLoader: Unable to load native-hadoop library for your platform... using builtin-java classes where applicable\n"
     ]
    }
   ],
   "source": [
    "from pyspark.sql import SparkSession\n",
    "from pyspark.sql import functions as F\n",
    "\n",
    "spark = SparkSession.builder.appName(\"GradientBooster\").getOrCreate()"
   ]
  },
  {
   "cell_type": "code",
   "execution_count": 2,
   "metadata": {},
   "outputs": [
    {
     "name": "stdout",
     "output_type": "stream",
     "text": [
      "+---+--------+-------------+-----------------------+--------+---------+---------------+---------------+\n",
      "| No|HouseAge|DistanceToMRT|NumberConvenienceStores|Latitude|Longitude|PriceOfUnitArea|TransactionYear|\n",
      "+---+--------+-------------+-----------------------+--------+---------+---------------+---------------+\n",
      "|  1|    32.0|     84.87882|                     10|24.98298|121.54024|           37.9|           2012|\n",
      "|  2|    19.5|     306.5947|                      9|24.98034|121.53951|           42.2|           2012|\n",
      "|  3|    13.3|     561.9845|                      5|24.98746|121.54391|           47.3|           2013|\n",
      "|  4|    13.3|     561.9845|                      5|24.98746|121.54391|           54.8|           2013|\n",
      "|  5|     5.0|     390.5684|                      5|24.97937|121.54245|           43.1|           2012|\n",
      "+---+--------+-------------+-----------------------+--------+---------+---------------+---------------+\n",
      "only showing top 5 rows\n",
      "\n"
     ]
    }
   ],
   "source": [
    "df = spark.read.csv(\"../data/realestate.csv\", sep=\",\", inferSchema=True, header=True)\n",
    "\n",
    "df = df.withColumn(\"TransactionYear\", F.floor(\"TransactionDate\")).drop(\n",
    "    \"TransactionDate\"\n",
    ")\n",
    "\n",
    "\n",
    "df.show(5)"
   ]
  },
  {
   "cell_type": "code",
   "execution_count": 10,
   "metadata": {},
   "outputs": [],
   "source": [
    "from pyspark.ml.tuning import CrossValidator, ParamGridBuilder\n",
    "from pyspark.ml.feature import VectorAssembler, StandardScaler\n",
    "from pyspark.ml.regression import GBTRegressor\n",
    "from pyspark.ml import Pipeline\n",
    "from pyspark.ml.evaluation import RegressionEvaluator\n",
    "from pyspark.ml.tuning import ParamGridBuilder, CrossValidator\n",
    "\n",
    "\n",
    "# train test split\n",
    "label_column = \"PriceOfUnitArea\"\n",
    "feature_columns = [col for col in df.columns if col != label_column]\n",
    "df_ = df.withColumnRenamed(label_column, \"label\")\n",
    "train, test = df_.randomSplit([0.8, 0.2], seed=42)\n",
    "\n",
    "# Create model pipeline\n",
    "# The regressor should be fed a 'features' column containing a vector with all the features\n",
    "# and a 'label' column\n",
    "vector_assembler = VectorAssembler(inputCols=feature_columns, outputCol=\"x_vectorized\")\n",
    "std_scaler = StandardScaler(inputCol=\"x_vectorized\", outputCol=\"features\")\n",
    "g_booster = GBTRegressor(seed=42)\n",
    "pipe = Pipeline(stages=[vector_assembler, std_scaler, g_booster])\n",
    "\n",
    "# param grid for the regressor\n",
    "paramGrid = (\n",
    "    ParamGridBuilder()\n",
    "    .addGrid(g_booster.maxDepth, [2, 3, 4])\n",
    "    .addGrid(g_booster.maxIter, [10, 20, 30])\n",
    "    .build()\n",
    ")\n",
    "\n",
    "# create CrossValidator object\n",
    "rmse_evaluator = RegressionEvaluator(metricName=\"rmse\")\n",
    "crossval = CrossValidator(\n",
    "    estimator=pipe,\n",
    "    estimatorParamMaps=paramGrid,\n",
    "    evaluator=rmse_evaluator,\n",
    "    numFolds=10,\n",
    "    seed=42,\n",
    ")  # use 3+ folds in practice\n",
    "\n",
    "# Fit CrossValidator\n",
    "cvModel = crossval.fit(train)"
   ]
  },
  {
   "cell_type": "code",
   "execution_count": 11,
   "metadata": {},
   "outputs": [
    {
     "name": "stdout",
     "output_type": "stream",
     "text": [
      "Best params: \n",
      "maxDepth 2\n",
      "maxIter 30\n",
      "\n",
      "Cross Validation Error:  7.23166\n",
      "Training Error:  6.44899\n"
     ]
    }
   ],
   "source": [
    "import numpy as np\n",
    "\n",
    "# print best params\n",
    "print(\"Best params: \")\n",
    "for param_info, param_value in cvModel.getEstimatorParamMaps()[\n",
    "    np.argmin(cvModel.avgMetrics)\n",
    "].items():\n",
    "    param_name = param_info.name\n",
    "    print(param_name, param_value)\n",
    "print()  # prints \\n\n",
    "\n",
    "# print evaluations metrics\n",
    "cv_error = min(cvModel.avgMetrics)\n",
    "print(\"Cross Validation Error: \", round(cv_error, 5))\n",
    "training_error = rmse_evaluator.evaluate(cvModel.transform(train))\n",
    "print(\"Training Error: \", round(training_error, 5))"
   ]
  },
  {
   "cell_type": "code",
   "execution_count": 12,
   "metadata": {},
   "outputs": [
    {
     "name": "stdout",
     "output_type": "stream",
     "text": [
      "Test Error:  7.45349\n"
     ]
    }
   ],
   "source": [
    "# print test error\n",
    "test_error = rmse_evaluator.evaluate(cvModel.transform(test))\n",
    "print(\"Test Error: \", round(test_error, 5))"
   ]
  },
  {
   "cell_type": "code",
   "execution_count": 6,
   "metadata": {},
   "outputs": [],
   "source": [
    "spark.stop()"
   ]
  }
 ],
 "metadata": {
  "kernelspec": {
   "display_name": "pyspark",
   "language": "python",
   "name": "python3"
  },
  "language_info": {
   "codemirror_mode": {
    "name": "ipython",
    "version": 3
   },
   "file_extension": ".py",
   "mimetype": "text/x-python",
   "name": "python",
   "nbconvert_exporter": "python",
   "pygments_lexer": "ipython3",
   "version": "3.11.5"
  }
 },
 "nbformat": 4,
 "nbformat_minor": 2
}
