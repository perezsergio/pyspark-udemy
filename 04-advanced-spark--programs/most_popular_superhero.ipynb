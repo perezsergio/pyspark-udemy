{
 "cells": [
  {
   "cell_type": "code",
   "execution_count": 3,
   "metadata": {},
   "outputs": [
    {
     "name": "stderr",
     "output_type": "stream",
     "text": [
      "23/12/17 09:30:30 WARN Utils: Your hostname, perezs-zeenbook resolves to a loopback address: 127.0.1.1; using 10.120.151.100 instead (on interface wlo1)\n",
      "23/12/17 09:30:30 WARN Utils: Set SPARK_LOCAL_IP if you need to bind to another address\n",
      "Setting default log level to \"WARN\".\n",
      "To adjust logging level use sc.setLogLevel(newLevel). For SparkR, use setLogLevel(newLevel).\n",
      "23/12/17 09:30:31 WARN NativeCodeLoader: Unable to load native-hadoop library for your platform... using builtin-java classes where applicable\n"
     ]
    }
   ],
   "source": [
    "from pyspark.sql import SparkSession\n",
    "from pyspark.sql import functions as F\n",
    "\n",
    "spark = SparkSession.builder.appName(\"Superheros\").getOrCreate()"
   ]
  },
  {
   "cell_type": "code",
   "execution_count": 4,
   "metadata": {},
   "outputs": [
    {
     "name": "stdout",
     "output_type": "stream",
     "text": [
      "+--------------------+\n",
      "|               value|\n",
      "+--------------------+\n",
      "|5988 748 1722 375...|\n",
      "|5989 4080 4264 44...|\n",
      "|5982 217 595 1194...|\n",
      "|5983 1165 3836 43...|\n",
      "|5980 2731 3712 15...|\n",
      "+--------------------+\n",
      "only showing top 5 rows\n",
      "\n"
     ]
    }
   ],
   "source": [
    "# read csv\n",
    "graph = spark.read.text(\"../data/marvel/Marvel+Graph\")\n",
    "\n",
    "graph.show(5)"
   ]
  },
  {
   "cell_type": "code",
   "execution_count": 5,
   "metadata": {},
   "outputs": [
    {
     "name": "stdout",
     "output_type": "stream",
     "text": [
      "+-------+--------------+\n",
      "|hero_id|num_of_friends|\n",
      "+-------+--------------+\n",
      "|    691|             6|\n",
      "|   1159|            11|\n",
      "|   3959|           142|\n",
      "|   1572|            35|\n",
      "|   2294|            14|\n",
      "+-------+--------------+\n",
      "only showing top 5 rows\n",
      "\n"
     ]
    }
   ],
   "source": [
    "# Get hero_id and num_of_friends of each row\n",
    "num_of_friends = (\n",
    "    graph.withColumn(\n",
    "        \"hero_id\",\n",
    "        F.split(F.trim(graph[\"value\"]), \" \")[\n",
    "            0\n",
    "        ],  # first space separated number of each line\n",
    "    )\n",
    "    .withColumn(\n",
    "        \"num_of_friends\",\n",
    "        F.size(F.split(F.trim(graph[\"value\"]), \" \")) - 1,  # Number of ids per line - 1\n",
    "    )\n",
    "    .drop(\"value\")  # drop the original column\n",
    ")\n",
    "\n",
    "# the most popular heros appear in multiple lines\n",
    "num_of_friends = num_of_friends.groupBy(\"hero_id\").agg(\n",
    "    F.sum(\"num_of_friends\").alias(\"num_of_friends\")\n",
    ")\n",
    "\n",
    "num_of_friends.show(5)"
   ]
  },
  {
   "cell_type": "code",
   "execution_count": 6,
   "metadata": {},
   "outputs": [
    {
     "name": "stdout",
     "output_type": "stream",
     "text": [
      "+-------+--------------------+\n",
      "|hero_id|           hero_name|\n",
      "+-------+--------------------+\n",
      "|      1|24-HOUR MAN/EMMANUEL|\n",
      "|      2|3-D MAN/CHARLES CHAN|\n",
      "|      3|    4-D MAN/MERCURIO|\n",
      "|      4|             8-BALL/|\n",
      "|      5|                   A|\n",
      "+-------+--------------------+\n",
      "only showing top 5 rows\n",
      "\n"
     ]
    }
   ],
   "source": [
    "# read csv\n",
    "heros_info = spark.read.csv(\"../data/marvel/Marvel+Names\", sep=\" \")\n",
    "# descriptive column names\n",
    "column_names = [\"hero_id\", \"hero_name\"]\n",
    "heros_info = heros_info.toDF(*column_names)\n",
    "\n",
    "heros_info.show(5)"
   ]
  },
  {
   "cell_type": "code",
   "execution_count": 7,
   "metadata": {},
   "outputs": [
    {
     "name": "stdout",
     "output_type": "stream",
     "text": [
      "+-------+--------------------+--------------+\n",
      "|hero_id|           hero_name|num_of_friends|\n",
      "+-------+--------------------+--------------+\n",
      "|    859|     CAPTAIN AMERICA|          1933|\n",
      "|   5306|SPIDER-MAN/PETER PAR|          1741|\n",
      "|   2664|IRON MAN/TONY STARK |          1528|\n",
      "|   5716|THING/BENJAMIN J. GR|          1426|\n",
      "|   6306|    WOLVERINE/LOGAN |          1394|\n",
      "+-------+--------------------+--------------+\n",
      "only showing top 5 rows\n",
      "\n"
     ]
    }
   ],
   "source": [
    "# add hero name to num_of_friends\n",
    "num_of_friends = num_of_friends.join(heros_info, \"hero_id\", \"left\")\n",
    "\n",
    "# change column order\n",
    "num_of_friends = num_of_friends.select([\"hero_id\", \"hero_name\", \"num_of_friends\"])\n",
    "\n",
    "# show heros with the most friends\n",
    "num_of_friends.sort(\"num_of_friends\", ascending=False).show(5)"
   ]
  },
  {
   "cell_type": "code",
   "execution_count": 8,
   "metadata": {},
   "outputs": [
    {
     "name": "stdout",
     "output_type": "stream",
     "text": [
      "+-------+--------------------+--------------+\n",
      "|hero_id|           hero_name|num_of_friends|\n",
      "+-------+--------------------+--------------+\n",
      "|   3490|MARVEL BOY II/MARTIN|             0|\n",
      "|   1089|       CLUMSY FOULUP|             0|\n",
      "|    467|        BERSERKER II|             0|\n",
      "|    577|              BLARE/|             0|\n",
      "|   3489|MARVEL BOY/MARTIN BU|             0|\n",
      "+-------+--------------------+--------------+\n",
      "only showing top 5 rows\n",
      "\n"
     ]
    }
   ],
   "source": [
    "# show heros with the least friends\n",
    "num_of_friends.sort(\"num_of_friends\", ascending=True).show(5)"
   ]
  },
  {
   "cell_type": "code",
   "execution_count": 9,
   "metadata": {},
   "outputs": [
    {
     "name": "stdout",
     "output_type": "stream",
     "text": [
      "+-------+--------------------+--------------+\n",
      "|hero_id|           hero_name|num_of_friends|\n",
      "+-------+--------------------+--------------+\n",
      "|    467|        BERSERKER II|             0|\n",
      "|    577|              BLARE/|             0|\n",
      "|   3490|MARVEL BOY II/MARTIN|             0|\n",
      "|   3489|MARVEL BOY/MARTIN BU|             0|\n",
      "|   2139|      GIURESCU, RADU|             0|\n",
      "|   1089|       CLUMSY FOULUP|             0|\n",
      "|   1841|              FENRIS|             0|\n",
      "|   4517|              RANDAK|             0|\n",
      "|   5028|           SHARKSKIN|             0|\n",
      "|    835|     CALLAHAN, DANNY|             0|\n",
      "|   1408|         DEATHCHARGE|             0|\n",
      "|   4784|                RUNE|             0|\n",
      "|   4945|         SEA LEOPARD|             0|\n",
      "|   4602|         RED WOLF II|             0|\n",
      "|   6411|              ZANTOR|             0|\n",
      "|   3014|JOHNSON, LYNDON BAIN|             0|\n",
      "|   3298|          LUNATIK II|             0|\n",
      "|   2911|                KULL|             0|\n",
      "|   2117|GERVASE, LADY ALYSSA|             0|\n",
      "+-------+--------------------+--------------+\n",
      "\n"
     ]
    }
   ],
   "source": [
    "# Show all the heros with no friends\n",
    "num_of_friends.filter(num_of_friends[\"num_of_friends\"] == 0).show()"
   ]
  },
  {
   "cell_type": "code",
   "execution_count": 10,
   "metadata": {},
   "outputs": [],
   "source": [
    "spark.stop()"
   ]
  }
 ],
 "metadata": {
  "kernelspec": {
   "display_name": "pyspark",
   "language": "python",
   "name": "python3"
  },
  "language_info": {
   "codemirror_mode": {
    "name": "ipython",
    "version": 3
   },
   "file_extension": ".py",
   "mimetype": "text/x-python",
   "name": "python",
   "nbconvert_exporter": "python",
   "pygments_lexer": "ipython3",
   "version": "3.11.5"
  }
 },
 "nbformat": 4,
 "nbformat_minor": 2
}
