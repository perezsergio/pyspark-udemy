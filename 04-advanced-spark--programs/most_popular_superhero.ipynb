{
 "cells": [
  {
   "cell_type": "code",
   "execution_count": 32,
   "metadata": {},
   "outputs": [],
   "source": [
    "from pyspark.sql import SparkSession\n",
    "from pyspark.sql import functions as F\n",
    "\n",
    "spark = SparkSession.builder.appName(\"Superheros\").getOrCreate()"
   ]
  },
  {
   "cell_type": "code",
   "execution_count": 33,
   "metadata": {},
   "outputs": [
    {
     "name": "stdout",
     "output_type": "stream",
     "text": [
      "+--------------------+\n",
      "|               value|\n",
      "+--------------------+\n",
      "|5988 748 1722 375...|\n",
      "|5989 4080 4264 44...|\n",
      "|5982 217 595 1194...|\n",
      "|5983 1165 3836 43...|\n",
      "|5980 2731 3712 15...|\n",
      "+--------------------+\n",
      "only showing top 5 rows\n",
      "\n"
     ]
    }
   ],
   "source": [
    "# read csv\n",
    "graph = spark.read.text(\"../data/marvel/Marvel+Graph\")\n",
    "\n",
    "graph.show(5)"
   ]
  },
  {
   "cell_type": "code",
   "execution_count": 34,
   "metadata": {},
   "outputs": [
    {
     "name": "stdout",
     "output_type": "stream",
     "text": [
      "+-----+-------+\n",
      "|value|hero_id|\n",
      "+-----+-------+\n",
      "|3490 |   3490|\n",
      "+-----+-------+\n",
      "\n"
     ]
    }
   ],
   "source": [
    "df = graph.withColumn(\n",
    "    \"hero_id\",\n",
    "    F.split(graph[\"value\"], \" \")[0],  # first space separated number of each line\n",
    ")\n",
    "\n",
    "df.filter(df[\"hero_id\"] == 3490).show()"
   ]
  },
  {
   "cell_type": "code",
   "execution_count": 35,
   "metadata": {},
   "outputs": [
    {
     "name": "stdout",
     "output_type": "stream",
     "text": [
      "+-------+--------------+\n",
      "|hero_id|num_of_friends|\n",
      "+-------+--------------+\n",
      "|    691|             6|\n",
      "|   1159|            11|\n",
      "|   3959|           142|\n",
      "|   1572|            35|\n",
      "|   2294|            14|\n",
      "+-------+--------------+\n",
      "only showing top 5 rows\n",
      "\n"
     ]
    }
   ],
   "source": [
    "# Get hero_id and num_of_friends of each row\n",
    "num_of_friends = (\n",
    "    graph.withColumn(\n",
    "        \"hero_id\",\n",
    "        F.split(F.trim(graph[\"value\"]), \" \")[\n",
    "            0\n",
    "        ],  # first space separated number of each line\n",
    "    )\n",
    "    .withColumn(\n",
    "        \"num_of_friends\",\n",
    "        F.size(F.split(F.trim(graph[\"value\"]), \" \")) - 1,  # Number of ids per line - 1\n",
    "    )\n",
    "    .drop(\"value\")\n",
    ")  # drop the original column\n",
    "\n",
    "# the most popular heros appear in multiple lines\n",
    "num_of_friends = num_of_friends.groupBy(\"hero_id\").agg(\n",
    "    F.sum(\"num_of_friends\").alias(\"num_of_friends\")\n",
    ")\n",
    "\n",
    "num_of_friends.show(5)"
   ]
  },
  {
   "cell_type": "code",
   "execution_count": 36,
   "metadata": {},
   "outputs": [
    {
     "data": {
      "text/plain": [
       "[Row(size(data)=3), Row(size(data)=1), Row(size(data)=0)]"
      ]
     },
     "execution_count": 36,
     "metadata": {},
     "output_type": "execute_result"
    }
   ],
   "source": [
    "df = spark.createDataFrame(\n",
    "    [\n",
    "        (\n",
    "            [\n",
    "                1,\n",
    "                2,\n",
    "                3,\n",
    "            ],\n",
    "        ),\n",
    "        (\n",
    "            [\n",
    "                3490,\n",
    "            ],\n",
    "        ),\n",
    "        ([],),\n",
    "    ],\n",
    "    [\"data\"],\n",
    ")\n",
    "df.select(F.size(df.data)).collect()"
   ]
  },
  {
   "cell_type": "code",
   "execution_count": 37,
   "metadata": {},
   "outputs": [
    {
     "name": "stdout",
     "output_type": "stream",
     "text": [
      "+-------+--------------------+\n",
      "|hero_id|           hero_name|\n",
      "+-------+--------------------+\n",
      "|      1|24-HOUR MAN/EMMANUEL|\n",
      "|      2|3-D MAN/CHARLES CHAN|\n",
      "|      3|    4-D MAN/MERCURIO|\n",
      "|      4|             8-BALL/|\n",
      "|      5|                   A|\n",
      "+-------+--------------------+\n",
      "only showing top 5 rows\n",
      "\n"
     ]
    }
   ],
   "source": [
    "# read csv\n",
    "heros_info = spark.read.csv(\"../data/marvel/Marvel+Names\", sep=\" \")\n",
    "# descriptive column names\n",
    "column_names = [\"hero_id\", \"hero_name\"]\n",
    "heros_info = heros_info.toDF(*column_names)\n",
    "\n",
    "heros_info.show(5)"
   ]
  },
  {
   "cell_type": "code",
   "execution_count": 38,
   "metadata": {},
   "outputs": [
    {
     "name": "stdout",
     "output_type": "stream",
     "text": [
      "+-------+--------------------+--------------+\n",
      "|hero_id|           hero_name|num_of_friends|\n",
      "+-------+--------------------+--------------+\n",
      "|    859|     CAPTAIN AMERICA|          1933|\n",
      "|   5306|SPIDER-MAN/PETER PAR|          1741|\n",
      "|   2664|IRON MAN/TONY STARK |          1528|\n",
      "|   5716|THING/BENJAMIN J. GR|          1426|\n",
      "|   6306|    WOLVERINE/LOGAN |          1394|\n",
      "+-------+--------------------+--------------+\n",
      "only showing top 5 rows\n",
      "\n"
     ]
    }
   ],
   "source": [
    "# add hero name to num_of_friends\n",
    "num_of_friends = num_of_friends.join(heros_info, \"hero_id\", \"left\")\n",
    "\n",
    "# change column order\n",
    "num_of_friends = num_of_friends.select([\"hero_id\", \"hero_name\", \"num_of_friends\"])\n",
    "\n",
    "num_of_friends.sort(\"num_of_friends\", ascending=False).show(5)"
   ]
  },
  {
   "cell_type": "code",
   "execution_count": 39,
   "metadata": {},
   "outputs": [
    {
     "name": "stdout",
     "output_type": "stream",
     "text": [
      "+-------+--------------------+--------------+\n",
      "|hero_id|           hero_name|num_of_friends|\n",
      "+-------+--------------------+--------------+\n",
      "|   3490|MARVEL BOY II/MARTIN|             0|\n",
      "|   1089|       CLUMSY FOULUP|             0|\n",
      "|    467|        BERSERKER II|             0|\n",
      "|    577|              BLARE/|             0|\n",
      "|   3489|MARVEL BOY/MARTIN BU|             0|\n",
      "+-------+--------------------+--------------+\n",
      "only showing top 5 rows\n",
      "\n"
     ]
    }
   ],
   "source": [
    "num_of_friends.sort(\"num_of_friends\", ascending=True).show(5)"
   ]
  },
  {
   "cell_type": "code",
   "execution_count": 40,
   "metadata": {},
   "outputs": [],
   "source": [
    "spark.stop()"
   ]
  }
 ],
 "metadata": {
  "kernelspec": {
   "display_name": "pyspark",
   "language": "python",
   "name": "python3"
  },
  "language_info": {
   "codemirror_mode": {
    "name": "ipython",
    "version": 3
   },
   "file_extension": ".py",
   "mimetype": "text/x-python",
   "name": "python",
   "nbconvert_exporter": "python",
   "pygments_lexer": "ipython3",
   "version": "3.11.5"
  }
 },
 "nbformat": 4,
 "nbformat_minor": 2
}
