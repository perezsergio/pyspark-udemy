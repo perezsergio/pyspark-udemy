{
 "cells": [
  {
   "cell_type": "code",
   "execution_count": 266,
   "metadata": {},
   "outputs": [],
   "source": [
    "from pyspark.sql import SparkSession\n",
    "from pyspark.sql import functions as F\n",
    "\n",
    "spark = SparkSession.builder.appName(\"MovieRatings\").getOrCreate()"
   ]
  },
  {
   "cell_type": "code",
   "execution_count": 267,
   "metadata": {},
   "outputs": [
    {
     "name": "stdout",
     "output_type": "stream",
     "text": [
      "+-------+--------+------+\n",
      "|user_id|movie_id|rating|\n",
      "+-------+--------+------+\n",
      "|    196|     242|     3|\n",
      "|    186|     302|     3|\n",
      "|     22|     377|     1|\n",
      "|    244|      51|     2|\n",
      "|    166|     346|     1|\n",
      "+-------+--------+------+\n",
      "only showing top 5 rows\n",
      "\n"
     ]
    }
   ],
   "source": [
    "# read csv\n",
    "movie_ratings = spark.read.csv(\"../data/ml-100k/u.data\", sep=\"\\t\", inferSchema=True)\n",
    "# we only care about 2nd and 3rd column\n",
    "movie_ratings = movie_ratings.select([\"_c0\", \"_c1\", \"_c2\"])\n",
    "# descriptive column names\n",
    "column_names = [\"user_id\", \"movie_id\", \"rating\"]\n",
    "movie_ratings = movie_ratings.toDF(*column_names)\n",
    "\n",
    "movie_ratings.show(5)"
   ]
  },
  {
   "cell_type": "code",
   "execution_count": 268,
   "metadata": {},
   "outputs": [
    {
     "name": "stdout",
     "output_type": "stream",
     "text": [
      "+-------+--------+------+-------------+\n",
      "|user_id|movie_id|rating|target_rating|\n",
      "+-------+--------+------+-------------+\n",
      "|     22|     377|     1|            5|\n",
      "|    244|      51|     2|            5|\n",
      "|    298|     474|     4|            5|\n",
      "|    115|     265|     2|            5|\n",
      "|    253|     465|     5|            4|\n",
      "+-------+--------+------+-------------+\n",
      "only showing top 5 rows\n",
      "\n"
     ]
    }
   ],
   "source": [
    "target_movie_id = 50\n",
    "\n",
    "# find all users who rated the movie\n",
    "user_rows = (\n",
    "    movie_ratings.filter(movie_ratings[\"movie_id\"] == target_movie_id)\n",
    "    .select(\"user_id\")\n",
    "    .collect()\n",
    ")\n",
    "users = [row[\"user_id\"] for row in user_rows]\n",
    "\n",
    "# the target ratings of a given user is the rating he gave to the target movie\n",
    "target_ratings = (\n",
    "    movie_ratings.filter(movie_ratings[\"movie_id\"] == target_movie_id)\n",
    "    .select([\"user_id\", \"rating\"])\n",
    "    .withColumnRenamed(\"rating\", \"target_rating\")\n",
    ")\n",
    "\n",
    "# df with the ratings given by the users who watched the target movie\n",
    "users_ratings = movie_ratings.filter(movie_ratings[\"user_id\"].isin(users))\n",
    "\n",
    "# add target rating to this dataset\n",
    "users_ratings = users_ratings.join(target_ratings, \"user_id\", \"inner\")\n",
    "\n",
    "users_ratings.show(5)"
   ]
  },
  {
   "cell_type": "code",
   "execution_count": 269,
   "metadata": {},
   "outputs": [
    {
     "name": "stdout",
     "output_type": "stream",
     "text": [
      "+--------+----------+-------------+--------------+\n",
      "|movie_id|cosine_sim|median_rating|num_of_ratings|\n",
      "+--------+----------+-------------+--------------+\n",
      "|      50|       1.0|          5.0|           583|\n",
      "|     172|      0.99|          4.0|           345|\n",
      "|     181|     0.986|          4.0|           480|\n",
      "|     174|     0.982|          5.0|           380|\n",
      "|     141|     0.979|          4.0|            68|\n",
      "+--------+----------+-------------+--------------+\n",
      "only showing top 5 rows\n",
      "\n"
     ]
    }
   ],
   "source": [
    "def rounded_rmse(col1, col2):\n",
    "    mse = F.mean((col1 - col2) ** 2)\n",
    "    rmse = F.sqrt(mse)\n",
    "    return F.round(rmse, 3)\n",
    "\n",
    "\n",
    "def rounded_cosine_sim(col1, col2):\n",
    "    dot_product = F.sum(col1 * col2)\n",
    "    norm_1 = F.sqrt(F.sum(col1**2))\n",
    "    norm_2 = F.sqrt(F.sum(col2**2))\n",
    "    cosine_sim = dot_product / (norm_1 * norm_2)\n",
    "    return F.round(cosine_sim, 3)\n",
    "\n",
    "\n",
    "recommendations = users_ratings.groupBy(\"movie_id\").agg(\n",
    "    rounded_cosine_sim(users_ratings[\"rating\"], users_ratings[\"target_rating\"]).alias(\n",
    "        \"cosine_sim\"\n",
    "    ),\n",
    "    F.median(users_ratings[\"rating\"]).alias(\"median_rating\"),\n",
    "    # (rounded_rmse(users_ratings[\"rating\"], users_ratings[\"target_rating\"])).alias(\"rmse\"),\n",
    "    F.count(users_ratings[\"rating\"]).alias(\"num_of_ratings\"),\n",
    ")\n",
    "\n",
    "# only recommend movies rated by at least 50 people who also rated the target movie\n",
    "recommendations = recommendations.filter(recommendations[\"num_of_ratings\"] >= 50)\n",
    "\n",
    "recommendations.sort(\"cosine_sim\", ascending=False).show(5)"
   ]
  },
  {
   "cell_type": "code",
   "execution_count": 270,
   "metadata": {},
   "outputs": [
    {
     "name": "stdout",
     "output_type": "stream",
     "text": [
      "+--------+----------+--------+\n",
      "|movie_id|movie_name|   genre|\n",
      "+--------+----------+--------+\n",
      "|       1| Toy Story|  Comedy|\n",
      "|       2| GoldenEye|Thriller|\n",
      "|       3|Four Rooms|Thriller|\n",
      "|       4|Get Shorty|   Drama|\n",
      "|       5|   Copycat|Thriller|\n",
      "+--------+----------+--------+\n",
      "only showing top 5 rows\n",
      "\n"
     ]
    }
   ],
   "source": [
    "# read csv\n",
    "movie_info = spark.read.csv(\"../data/ml-100k/u.item\", sep=\"|\", inferSchema=True)\n",
    "\n",
    "# genre data is one hot encoded, we want to undo this encoding\n",
    "# meaning of columns _c5 to _c23\n",
    "genre_columns = [\n",
    "    \"Unknown\",\n",
    "    \"Action\",\n",
    "    \"Adventure\",\n",
    "    \"Animation\",\n",
    "    \"Childrens\",\n",
    "    \"Comedy\",\n",
    "    \"Crime\",\n",
    "    \"Documentary\",\n",
    "    \"Drama\",\n",
    "    \"Fantasy\",\n",
    "    \"Film-Noir\",\n",
    "    \"Horror\",\n",
    "    \"Musical\",\n",
    "    \"Mystery\",\n",
    "    \"Romance\",\n",
    "    \"SciFi\",\n",
    "    \"Thriller\",\n",
    "    \"War\",\n",
    "    \"Western\",\n",
    "]\n",
    "# create genre column with the genre as a string\n",
    "movie_info = movie_info.withColumn(\"genre\", F.lit(\"Unknown\"))\n",
    "for i in range(19):\n",
    "    column_name = \"_c\" + str(i + 5)\n",
    "    genre = genre_columns[i]\n",
    "    movie_info = movie_info.withColumn(\n",
    "        \"genre\",\n",
    "        F.when(movie_info[column_name] == 1, genre).otherwise(movie_info[\"genre\"]),\n",
    "    )\n",
    "\n",
    "# movie_name info is in the column _c1\n",
    "movie_info = movie_info.withColumn(\"movie_name\", F.split(\"_c1\", pattern=\" \\(\")[0])\n",
    "\n",
    "# drop all columns but genre, movie_name and movie_id\n",
    "movie_info = movie_info.withColumnRenamed(\"_c0\", \"movie_id\")\n",
    "movie_info = movie_info.select([\"movie_id\", \"movie_name\", \"genre\"])\n",
    "\n",
    "movie_info.show(5)"
   ]
  },
  {
   "cell_type": "code",
   "execution_count": 271,
   "metadata": {},
   "outputs": [
    {
     "name": "stdout",
     "output_type": "stream",
     "text": [
      "+--------+----------+-------------+--------------+--------------------+---------+\n",
      "|movie_id|cosine_sim|median_rating|num_of_ratings|          movie_name|    genre|\n",
      "+--------+----------+-------------+--------------+--------------------+---------+\n",
      "|      50|       1.0|          5.0|           583|           Star Wars|      War|\n",
      "|     172|      0.99|          4.0|           345|Empire Strikes Ba...|      War|\n",
      "|     181|     0.986|          4.0|           480|  Return of the Jedi|      War|\n",
      "|     174|     0.982|          5.0|           380|Raiders of the Lo...|Adventure|\n",
      "|     141|     0.979|          4.0|            68|20,000 Leagues Un...|    SciFi|\n",
      "|     178|     0.978|          4.0|           109|        12 Angry Men|    Drama|\n",
      "|     408|     0.978|          5.0|            92|      Close Shave, A| Thriller|\n",
      "|     498|     0.976|          4.0|           138|  African Queen, The|      War|\n",
      "|     194|     0.975|          4.0|           204|          Sting, The|    Crime|\n",
      "|     169|     0.975|          5.0|           103| Wrong Trousers, The|   Comedy|\n",
      "+--------+----------+-------------+--------------+--------------------+---------+\n",
      "only showing top 10 rows\n",
      "\n"
     ]
    }
   ],
   "source": [
    "# join movie_info to movie_ratings so that movie_ratings now displays the movie name\n",
    "named_recommendations = recommendations.join(movie_info, \"movie_id\", \"left\")\n",
    "named_recommendations = named_recommendations.sort(\"cosine_sim\", ascending=False)\n",
    "named_recommendations.show(10)"
   ]
  },
  {
   "cell_type": "code",
   "execution_count": 272,
   "metadata": {},
   "outputs": [
    {
     "name": "stdout",
     "output_type": "stream",
     "text": [
      "+--------+----------+-------------+--------------+--------------------+-----+\n",
      "|movie_id|cosine_sim|median_rating|num_of_ratings|          movie_name|genre|\n",
      "+--------+----------+-------------+--------------+--------------------+-----+\n",
      "|      50|       1.0|          5.0|           583|           Star Wars|  War|\n",
      "|     172|      0.99|          4.0|           345|Empire Strikes Ba...|  War|\n",
      "|     181|     0.986|          4.0|           480|  Return of the Jedi|  War|\n",
      "|     498|     0.976|          4.0|           138|  African Queen, The|  War|\n",
      "|     199|     0.973|          4.0|           145|Bridge on the Riv...|  War|\n",
      "|     483|     0.973|          5.0|           214|          Casablanca|  War|\n",
      "|     651|     0.972|          4.0|           155|               Glory|  War|\n",
      "|     511|     0.969|          4.0|           153|  Lawrence of Arabia|  War|\n",
      "|     176|     0.967|          4.0|           259|              Aliens|  War|\n",
      "|     318|     0.966|          5.0|           247|    Schindler's List|  War|\n",
      "+--------+----------+-------------+--------------+--------------------+-----+\n",
      "only showing top 10 rows\n",
      "\n"
     ]
    }
   ],
   "source": [
    "# Posible ideas for better recommendations\n",
    "\n",
    "# Only recommend movies with above average ratings\n",
    "median_rating = movie_ratings.agg(F.median(\"rating\")).collect()[0][\"median(rating)\"]\n",
    "better_recommendations = named_recommendations.filter(\n",
    "    named_recommendations[\"median_rating\"] >= median_rating\n",
    ")\n",
    "\n",
    "# Only recommend movies with the same genre\n",
    "target_genre = movie_info.filter(movie_info[\"movie_id\"] == target_movie_id).collect()[\n",
    "    0\n",
    "][\"genre\"]\n",
    "better_recommendations = better_recommendations.filter(\n",
    "    better_recommendations[\"genre\"] == target_genre\n",
    ")\n",
    "\n",
    "better_recommendations.show(10)"
   ]
  },
  {
   "cell_type": "code",
   "execution_count": 273,
   "metadata": {},
   "outputs": [],
   "source": [
    "spark.stop()"
   ]
  }
 ],
 "metadata": {
  "kernelspec": {
   "display_name": "pyspark",
   "language": "python",
   "name": "python3"
  },
  "language_info": {
   "codemirror_mode": {
    "name": "ipython",
    "version": 3
   },
   "file_extension": ".py",
   "mimetype": "text/x-python",
   "name": "python",
   "nbconvert_exporter": "python",
   "pygments_lexer": "ipython3",
   "version": "3.11.5"
  }
 },
 "nbformat": 4,
 "nbformat_minor": 2
}
