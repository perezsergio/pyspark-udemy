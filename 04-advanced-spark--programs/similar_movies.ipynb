{
 "cells": [
  {
   "cell_type": "code",
   "execution_count": 140,
   "metadata": {},
   "outputs": [],
   "source": [
    "from pyspark.sql import SparkSession\n",
    "from pyspark.sql import functions as F\n",
    "\n",
    "spark = SparkSession.builder.appName(\"MovieRatings\").getOrCreate()"
   ]
  },
  {
   "cell_type": "code",
   "execution_count": 141,
   "metadata": {},
   "outputs": [
    {
     "name": "stdout",
     "output_type": "stream",
     "text": [
      "+-------+--------+------+\n",
      "|user_id|movie_id|rating|\n",
      "+-------+--------+------+\n",
      "|    196|     242|     3|\n",
      "|    186|     302|     3|\n",
      "|     22|     377|     1|\n",
      "|    244|      51|     2|\n",
      "|    166|     346|     1|\n",
      "+-------+--------+------+\n",
      "only showing top 5 rows\n",
      "\n"
     ]
    }
   ],
   "source": [
    "# read csv\n",
    "movie_ratings = spark.read.csv(\"../data/ml-100k/u.data\", sep=\"\\t\", inferSchema=True)\n",
    "# we only care about 2nd and 3rd column\n",
    "movie_ratings = movie_ratings.select([\"_c0\", \"_c1\", \"_c2\"])\n",
    "# descriptive column names\n",
    "column_names = [\"user_id\", \"movie_id\", \"rating\"]\n",
    "movie_ratings = movie_ratings.toDF(*column_names)\n",
    "\n",
    "movie_ratings.show(5)"
   ]
  },
  {
   "cell_type": "code",
   "execution_count": 142,
   "metadata": {},
   "outputs": [
    {
     "name": "stdout",
     "output_type": "stream",
     "text": [
      "+-------+--------+------+-------------+\n",
      "|user_id|movie_id|rating|target_rating|\n",
      "+-------+--------+------+-------------+\n",
      "|    244|      51|     2|            4|\n",
      "|    298|     474|     4|            5|\n",
      "|    253|     465|     5|            5|\n",
      "|    305|     451|     3|            5|\n",
      "|      6|      86|     3|            4|\n",
      "+-------+--------+------+-------------+\n",
      "only showing top 5 rows\n",
      "\n"
     ]
    }
   ],
   "source": [
    "target_movie_id = 1\n",
    "\n",
    "# find all users who rated the movie\n",
    "user_rows = (\n",
    "    movie_ratings.filter(movie_ratings[\"movie_id\"] == target_movie_id)\n",
    "    .select(\"user_id\")\n",
    "    .collect()\n",
    ")\n",
    "users = [row[\"user_id\"] for row in user_rows]\n",
    "\n",
    "# the target ratings of a given user is the rating he gave to the target movie\n",
    "target_ratings = (\n",
    "    movie_ratings.filter(movie_ratings[\"movie_id\"] == target_movie_id)\n",
    "    .select([\"user_id\", \"rating\"])\n",
    "    .withColumnRenamed(\"rating\", \"target_rating\")\n",
    ")\n",
    "\n",
    "# df with the ratings given by the users who watched the target movie\n",
    "users_ratings = movie_ratings.filter(movie_ratings[\"user_id\"].isin(users))\n",
    "\n",
    "# add target rating to this dataset\n",
    "users_ratings = users_ratings.join(target_ratings, \"user_id\", \"inner\")\n",
    "\n",
    "users_ratings.show(5)"
   ]
  },
  {
   "cell_type": "code",
   "execution_count": 143,
   "metadata": {},
   "outputs": [
    {
     "name": "stdout",
     "output_type": "stream",
     "text": [
      "+--------+----------+--------------+\n",
      "|movie_id|cosine_sim|num_of_ratings|\n",
      "+--------+----------+--------------+\n",
      "|       1|       1.0|           452|\n",
      "|     923|      0.98|            27|\n",
      "|     612|     0.979|            26|\n",
      "|     921|     0.979|            26|\n",
      "|     500|     0.978|            24|\n",
      "+--------+----------+--------------+\n",
      "only showing top 5 rows\n",
      "\n"
     ]
    }
   ],
   "source": [
    "def rounded_rmse(col1, col2):\n",
    "    mse = F.mean((col1 - col2) ** 2)\n",
    "    rmse = F.sqrt(mse)\n",
    "    return F.round(rmse, 3)\n",
    "\n",
    "\n",
    "def rounded_cosine_sim(col1, col2):\n",
    "    dot_product = F.sum(col1 * col2)\n",
    "    norm_1 = F.sqrt(F.sum(col1**2))\n",
    "    norm_2 = F.sqrt(F.sum(col2**2))\n",
    "    cosine_sim = dot_product / (norm_1 * norm_2)\n",
    "    return F.round(cosine_sim, 3)\n",
    "\n",
    "\n",
    "recommendations = users_ratings.groupBy(\"movie_id\").agg(\n",
    "    rounded_cosine_sim(users_ratings[\"rating\"], users_ratings[\"target_rating\"]).alias(\n",
    "        \"cosine_sim\"\n",
    "    ),\n",
    "    # (rounded_rmse(users_ratings[\"rating\"], users_ratings[\"target_rating\"])).alias(\"rmse\"),\n",
    "    F.count(users_ratings[\"rating\"]).alias(\"num_of_ratings\"),\n",
    ")\n",
    "\n",
    "recommendations = recommendations.filter(recommendations[\"num_of_ratings\"] >= 20)\n",
    "\n",
    "recommendations.sort(\"cosine_sim\", ascending=False).show(5)"
   ]
  },
  {
   "cell_type": "code",
   "execution_count": 144,
   "metadata": {},
   "outputs": [
    {
     "name": "stdout",
     "output_type": "stream",
     "text": [
      "+--------+----------+\n",
      "|movie_id|movie_name|\n",
      "+--------+----------+\n",
      "|       1| Toy Story|\n",
      "|       2| GoldenEye|\n",
      "|       3|Four Rooms|\n",
      "|       4|Get Shorty|\n",
      "|       5|   Copycat|\n",
      "+--------+----------+\n",
      "only showing top 5 rows\n",
      "\n"
     ]
    }
   ],
   "source": [
    "# read csv\n",
    "movie_info = spark.read.csv(\"../data/ml-100k/u.item\", sep=\"|\", inferSchema=True)\n",
    "# we only care about 2nd and 3rd column\n",
    "movie_info = movie_info.select([\"_c0\", \"_c1\"])\n",
    "# The column '_c1' contains movie name and date, we only want the name\n",
    "movie_info = movie_info.withColumn(\"_c1\", F.split(\"_c1\", pattern=\" \\(\")[0])\n",
    "# descriptive column names\n",
    "column_names = [\"movie_id\", \"movie_name\"]\n",
    "movie_info = movie_info.toDF(*column_names)\n",
    "\n",
    "movie_info.show(5)"
   ]
  },
  {
   "cell_type": "code",
   "execution_count": 145,
   "metadata": {},
   "outputs": [
    {
     "name": "stdout",
     "output_type": "stream",
     "text": [
      "+--------+----------+--------------+--------------------+\n",
      "|movie_id|cosine_sim|num_of_ratings|          movie_name|\n",
      "+--------+----------+--------------+--------------------+\n",
      "|       1|       1.0|           452|           Toy Story|\n",
      "|     923|      0.98|            27|Raise the Red Lan...|\n",
      "|     921|     0.979|            26|Farewell My Concu...|\n",
      "|     612|     0.979|            26|        Lost Horizon|\n",
      "|     500|     0.978|            24|       Fly Away Home|\n",
      "|     524|     0.978|            26| Great Dictator, The|\n",
      "|     499|     0.977|            32|Cat on a Hot Tin ...|\n",
      "|    1051|     0.976|            32|      Associate, The|\n",
      "|    1039|     0.975|            67|              Hamlet|\n",
      "|     489|     0.975|            31|           Notorious|\n",
      "+--------+----------+--------------+--------------------+\n",
      "only showing top 10 rows\n",
      "\n"
     ]
    }
   ],
   "source": [
    "# join movie_info to movie_ratings so that movie_ratings now displays the movie name\n",
    "named_recommendations = recommendations.join(movie_info, \"movie_id\", \"left\")\n",
    "named_recommendations.sort(\"cosine_sim\", ascending=False).show(10)"
   ]
  },
  {
   "cell_type": "code",
   "execution_count": 146,
   "metadata": {},
   "outputs": [],
   "source": [
    "spark.stop()"
   ]
  }
 ],
 "metadata": {
  "kernelspec": {
   "display_name": "pyspark",
   "language": "python",
   "name": "python3"
  },
  "language_info": {
   "codemirror_mode": {
    "name": "ipython",
    "version": 3
   },
   "file_extension": ".py",
   "mimetype": "text/x-python",
   "name": "python",
   "nbconvert_exporter": "python",
   "pygments_lexer": "ipython3",
   "version": "3.11.5"
  }
 },
 "nbformat": 4,
 "nbformat_minor": 2
}
