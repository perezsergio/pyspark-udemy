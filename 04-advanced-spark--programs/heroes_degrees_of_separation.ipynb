{
 "cells": [
  {
   "cell_type": "code",
   "execution_count": 161,
   "metadata": {},
   "outputs": [],
   "source": [
    "from pyspark.sql import SparkSession\n",
    "from pyspark.sql import functions as F\n",
    "\n",
    "spark = SparkSession.builder.appName(\"Superheros\").getOrCreate()"
   ]
  },
  {
   "cell_type": "code",
   "execution_count": 162,
   "metadata": {},
   "outputs": [
    {
     "name": "stdout",
     "output_type": "stream",
     "text": [
      "+--------------------+\n",
      "|               value|\n",
      "+--------------------+\n",
      "|5988 748 1722 375...|\n",
      "|5989 4080 4264 44...|\n",
      "|5982 217 595 1194...|\n",
      "|5983 1165 3836 43...|\n",
      "|5980 2731 3712 15...|\n",
      "+--------------------+\n",
      "only showing top 5 rows\n",
      "\n"
     ]
    }
   ],
   "source": [
    "# read csv\n",
    "graph = spark.read.text(\"../data/marvel/Marvel+Graph\")\n",
    "\n",
    "graph.show(5)"
   ]
  },
  {
   "cell_type": "markdown",
   "metadata": {},
   "source": [
    "Breadth first search. Algorithm that searches a graph to obtain the distance between any given pair of vertices.\n"
   ]
  },
  {
   "cell_type": "code",
   "execution_count": 163,
   "metadata": {},
   "outputs": [
    {
     "name": "stdout",
     "output_type": "stream",
     "text": [
      "+--------------------+---------+------------------+--------------------+\n",
      "|               value|vertex_id|num_of_connections|         connections|\n",
      "+--------------------+---------+------------------+--------------------+\n",
      "|[5988, 748, 1722,...|     5988|                48|[748, 1722, 3752,...|\n",
      "|[5989, 4080, 4264...|     5989|                40|[4080, 4264, 4446...|\n",
      "|[5982, 217, 595, ...|     5982|                42|[217, 595, 1194, ...|\n",
      "|[5983, 1165, 3836...|     5983|                14|[1165, 3836, 4361...|\n",
      "|[5980, 2731, 3712...|     5980|                24|[2731, 3712, 1587...|\n",
      "+--------------------+---------+------------------+--------------------+\n",
      "only showing top 5 rows\n",
      "\n"
     ]
    }
   ],
   "source": [
    "curated_graph = graph.withColumn(\n",
    "    \"value\",\n",
    "    F.split(F.trim(graph[\"value\"]), \" \"),  # split space separated string to array\n",
    ")\n",
    "\n",
    "curated_graph = curated_graph.withColumn(\n",
    "    \"vertex_id\", curated_graph[\"value\"][0]\n",
    ").withColumn(\"num_of_connections\", F.size(curated_graph[\"value\"]) - 1)\n",
    "\n",
    "curated_graph = curated_graph.withColumn(\n",
    "    \"connections\",\n",
    "    F.slice(curated_graph[\"value\"], 2, curated_graph[\"num_of_connections\"]),\n",
    ")\n",
    "\n",
    "curated_graph.show(5)"
   ]
  },
  {
   "cell_type": "code",
   "execution_count": 164,
   "metadata": {},
   "outputs": [
    {
     "name": "stdout",
     "output_type": "stream",
     "text": [
      "+--------------------+---------+------------------+--------------------+--------+\n",
      "|               value|vertex_id|num_of_connections|         connections|distance|\n",
      "+--------------------+---------+------------------+--------------------+--------+\n",
      "|[5988, 748, 1722,...|     5988|                48|[748, 1722, 3752,...|       0|\n",
      "|[5989, 4080, 4264...|     5989|                40|[4080, 4264, 4446...|       3|\n",
      "|[5982, 217, 595, ...|     5982|                42|[217, 595, 1194, ...|       3|\n",
      "|[5983, 1165, 3836...|     5983|                14|[1165, 3836, 4361...|       2|\n",
      "|[5980, 2731, 3712...|     5980|                24|[2731, 3712, 1587...|       3|\n",
      "+--------------------+---------+------------------+--------------------+--------+\n",
      "only showing top 5 rows\n",
      "\n"
     ]
    }
   ],
   "source": [
    "def flatten(xss):\n",
    "    return [x for xs in xss for x in xs]\n",
    "\n",
    "\n",
    "# Get degrees of separation\n",
    "initial_vertex = 5988\n",
    "\n",
    "# initialize distance to -1\n",
    "df = curated_graph.withColumn(\"distance\", F.lit(-1))\n",
    "\n",
    "vertices = [initial_vertex]\n",
    "distance = 0\n",
    "max_iterations = 8\n",
    "num_unsolved_vertices = df.count()\n",
    "\n",
    "for i in range(max_iterations):\n",
    "    # set distance of the vertices\n",
    "    df = df.withColumn(\n",
    "        \"distance\",\n",
    "        F.when(\n",
    "            (df[\"vertex_id\"].isin(vertices)) & (df[\"distance\"] == -1), distance\n",
    "        ).otherwise(df[\"distance\"]),\n",
    "    )\n",
    "\n",
    "    # get a list of all the neighbors of the vertices\n",
    "    neighbors_rows = (\n",
    "        df.filter(df[\"distance\"] == distance).select(\"connections\").collect()\n",
    "    )\n",
    "    neighbors = [row[\"connections\"] for row in neighbors_rows]\n",
    "    neighbors = flatten(neighbors)\n",
    "\n",
    "    # Exit loop i there are no remaining unsolved vertices\n",
    "    prev_unsolved_vertices = num_unsolved_vertices\n",
    "    num_unsolved_vertices = df.filter(df[\"distance\"] == -1).count()\n",
    "    if num_unsolved_vertices == 0 or prev_unsolved_vertices == num_unsolved_vertices:\n",
    "        break\n",
    "\n",
    "    # For the next iteration, the distance is increased by one\n",
    "    # and the vertices will be the neighbors of the current iteration\n",
    "    vertices = neighbors\n",
    "    distance = distance + 1\n",
    "\n",
    "\n",
    "df.show(5)"
   ]
  },
  {
   "cell_type": "code",
   "execution_count": 167,
   "metadata": {},
   "outputs": [
    {
     "name": "stdout",
     "output_type": "stream",
     "text": [
      "+--------+-----+\n",
      "|distance|count|\n",
      "+--------+-----+\n",
      "|      -1|   37|\n",
      "|       1|   49|\n",
      "|       3| 5454|\n",
      "|       4|  187|\n",
      "|       2|  861|\n",
      "|       0|    1|\n",
      "+--------+-----+\n",
      "\n"
     ]
    }
   ],
   "source": [
    "df.groupBy(\"distance\").count().show()"
   ]
  },
  {
   "cell_type": "code",
   "execution_count": 166,
   "metadata": {},
   "outputs": [],
   "source": [
    "spark.stop()"
   ]
  }
 ],
 "metadata": {
  "kernelspec": {
   "display_name": "pyspark",
   "language": "python",
   "name": "python3"
  },
  "language_info": {
   "codemirror_mode": {
    "name": "ipython",
    "version": 3
   },
   "file_extension": ".py",
   "mimetype": "text/x-python",
   "name": "python",
   "nbconvert_exporter": "python",
   "pygments_lexer": "ipython3",
   "version": "3.11.5"
  }
 },
 "nbformat": 4,
 "nbformat_minor": 2
}
