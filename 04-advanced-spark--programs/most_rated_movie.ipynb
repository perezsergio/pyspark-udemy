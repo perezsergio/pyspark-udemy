{
 "cells": [
  {
   "cell_type": "code",
   "execution_count": 22,
   "metadata": {},
   "outputs": [],
   "source": [
    "from pyspark.sql import SparkSession\n",
    "from pyspark.sql import functions as F\n",
    "\n",
    "spark = SparkSession.builder.appName(\"MovieRatings\").getOrCreate()"
   ]
  },
  {
   "cell_type": "code",
   "execution_count": 23,
   "metadata": {},
   "outputs": [
    {
     "name": "stdout",
     "output_type": "stream",
     "text": [
      "+--------+------+\n",
      "|movie_id|rating|\n",
      "+--------+------+\n",
      "|     242|     3|\n",
      "|     302|     3|\n",
      "|     377|     1|\n",
      "|      51|     2|\n",
      "|     346|     1|\n",
      "+--------+------+\n",
      "only showing top 5 rows\n",
      "\n"
     ]
    }
   ],
   "source": [
    "# read csv\n",
    "movie_ratings = spark.read.csv(\"../data/ml-100k/u.data\", sep=\"\\t\", inferSchema=True)\n",
    "# we only care about 2nd and 3rd column\n",
    "movie_ratings = movie_ratings.select([\"_c1\", \"_c2\"])\n",
    "# descriptive column names\n",
    "column_names = [\"movie_id\", \"rating\"]\n",
    "movie_ratings = movie_ratings.toDF(*column_names)\n",
    "\n",
    "movie_ratings.show(5)"
   ]
  },
  {
   "cell_type": "code",
   "execution_count": 24,
   "metadata": {},
   "outputs": [
    {
     "name": "stdout",
     "output_type": "stream",
     "text": [
      "+--------+----------+\n",
      "|movie_id|movie_name|\n",
      "+--------+----------+\n",
      "|       1| Toy Story|\n",
      "|       2| GoldenEye|\n",
      "|       3|Four Rooms|\n",
      "|       4|Get Shorty|\n",
      "|       5|   Copycat|\n",
      "+--------+----------+\n",
      "only showing top 5 rows\n",
      "\n"
     ]
    }
   ],
   "source": [
    "# read csv\n",
    "movie_info = spark.read.csv(\"../data/ml-100k/u.item\", sep=\"|\", inferSchema=True)\n",
    "# we only care about 2nd and 3rd column\n",
    "movie_info = movie_info.select([\"_c0\", \"_c1\"])\n",
    "# The column '_c1' contains movie name and date, we only want the name\n",
    "movie_info = movie_info.withColumn(\"_c1\", F.split(\"_c1\", pattern=\" \\(\")[0])\n",
    "# descriptive column names\n",
    "column_names = [\"movie_id\", \"movie_name\"]\n",
    "movie_info = movie_info.toDF(*column_names)\n",
    "\n",
    "movie_info.show(5)"
   ]
  },
  {
   "cell_type": "code",
   "execution_count": 25,
   "metadata": {},
   "outputs": [
    {
     "name": "stdout",
     "output_type": "stream",
     "text": [
      "+--------+------+-------------------+\n",
      "|movie_id|rating|         movie_name|\n",
      "+--------+------+-------------------+\n",
      "|     242|     3|              Kolya|\n",
      "|     302|     3|  L.A. Confidential|\n",
      "|     377|     1|       Heavyweights|\n",
      "|      51|     2|Legends of the Fall|\n",
      "|     346|     1|       Jackie Brown|\n",
      "+--------+------+-------------------+\n",
      "only showing top 5 rows\n",
      "\n"
     ]
    }
   ],
   "source": [
    "# join movie_info to movie_ratings so that movie_ratings now displays the movie name\n",
    "movie_ratings = movie_ratings.join(movie_info, \"movie_id\", \"left\")\n",
    "movie_ratings.show(5)"
   ]
  },
  {
   "cell_type": "code",
   "execution_count": 26,
   "metadata": {},
   "outputs": [
    {
     "name": "stdout",
     "output_type": "stream",
     "text": [
      "+--------+--------------------+--------------+\n",
      "|movie_id|          movie_name|num_of_ratings|\n",
      "+--------+--------------------+--------------+\n",
      "|      50|           Star Wars|           583|\n",
      "|     258|             Contact|           509|\n",
      "|     100|               Fargo|           508|\n",
      "|     181|  Return of the Jedi|           507|\n",
      "|     294|           Liar Liar|           485|\n",
      "|     286|English Patient, The|           481|\n",
      "|     288|              Scream|           478|\n",
      "|       1|           Toy Story|           452|\n",
      "|     300|       Air Force One|           431|\n",
      "|     121|    Independence Day|           429|\n",
      "+--------+--------------------+--------------+\n",
      "only showing top 10 rows\n",
      "\n"
     ]
    }
   ],
   "source": [
    "rating_counts = movie_ratings.groupBy([\"movie_id\", \"movie_name\"]).agg(\n",
    "    F.count(\"rating\").alias(\"num_of_ratings\")\n",
    ")\n",
    "ordered_rating_counts = rating_counts.orderBy(\"num_of_ratings\", ascending=False)\n",
    "ordered_rating_counts.show(10)"
   ]
  },
  {
   "cell_type": "code",
   "execution_count": 27,
   "metadata": {},
   "outputs": [],
   "source": [
    "spark.stop()"
   ]
  }
 ],
 "metadata": {
  "kernelspec": {
   "display_name": "pyspark",
   "language": "python",
   "name": "python3"
  },
  "language_info": {
   "codemirror_mode": {
    "name": "ipython",
    "version": 3
   },
   "file_extension": ".py",
   "mimetype": "text/x-python",
   "name": "python",
   "nbconvert_exporter": "python",
   "pygments_lexer": "ipython3",
   "version": "3.11.5"
  }
 },
 "nbformat": 4,
 "nbformat_minor": 2
}
