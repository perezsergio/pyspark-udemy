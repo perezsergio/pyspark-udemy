{
 "cells": [
  {
   "cell_type": "code",
   "execution_count": 45,
   "metadata": {},
   "outputs": [],
   "source": [
    "from pyspark.sql import SparkSession\n",
    "from pyspark.sql import functions as F\n",
    "\n",
    "spark = SparkSession.builder.appName(\"MinTemp\").getOrCreate()"
   ]
  },
  {
   "cell_type": "code",
   "execution_count": 71,
   "metadata": {},
   "outputs": [
    {
     "name": "stdout",
     "output_type": "stream",
     "text": [
      "+-----------+----------+----------------+-----------------+\n",
      "| station_id|      date|measurement_type|measurement_value|\n",
      "+-----------+----------+----------------+-----------------+\n",
      "|ITE00100554|1800-01-01|            TMAX|              -75|\n",
      "|ITE00100554|1800-01-01|            TMIN|             -148|\n",
      "|GM000010962|1800-01-01|            PRCP|                0|\n",
      "|EZE00100082|1800-01-01|            TMAX|              -86|\n",
      "|EZE00100082|1800-01-01|            TMIN|             -135|\n",
      "+-----------+----------+----------------+-----------------+\n",
      "only showing top 5 rows\n",
      "\n"
     ]
    }
   ],
   "source": [
    "# read csv\n",
    "daily_temp = spark.read.csv(\n",
    "    \"../data/1800.csv\",\n",
    "    inferSchema=True,\n",
    ")\n",
    "# we only want the first 4 columns\n",
    "daily_temp = daily_temp.select([\"_c0\", \"_c1\", \"_c2\", \"_c3\"])\n",
    "# rename columns\n",
    "column_names = [\"station_id\", \"date\", \"measurement_type\", \"measurement_value\"]\n",
    "daily_temp = daily_temp.toDF(*column_names)\n",
    "# Convert 'date' column from string to date\n",
    "daily_temp = daily_temp.withColumn(\"date\", F.to_date(daily_temp[\"date\"], \"yyyyMMdd\"))\n",
    "\n",
    "daily_temp.show(5)"
   ]
  },
  {
   "cell_type": "code",
   "execution_count": 72,
   "metadata": {},
   "outputs": [
    {
     "name": "stdout",
     "output_type": "stream",
     "text": [
      "+-----------+----------+-----+\n",
      "| station_id|      date|t_min|\n",
      "+-----------+----------+-----+\n",
      "|ITE00100554|1800-01-01| -148|\n",
      "|EZE00100082|1800-01-01| -135|\n",
      "|ITE00100554|1800-01-02| -125|\n",
      "|EZE00100082|1800-01-02| -130|\n",
      "|ITE00100554|1800-01-03|  -46|\n",
      "+-----------+----------+-----+\n",
      "only showing top 5 rows\n",
      "\n"
     ]
    }
   ],
   "source": [
    "# we only want the TMIN measurements\n",
    "daily_min_temp = daily_temp.filter(daily_temp[\"measurement_type\"] == \"TMIN\")\n",
    "# the 'measurement_type' column is no redundant. Drop it.\n",
    "daily_min_temp = daily_min_temp.drop(\"measurement_type\")\n",
    "# the 'measurement_value' is the daily t_min\n",
    "daily_min_temp = daily_min_temp.withColumnRenamed(\"measurement_value\", \"t_min\")\n",
    "\n",
    "daily_min_temp.show(5)"
   ]
  },
  {
   "cell_type": "code",
   "execution_count": 74,
   "metadata": {},
   "outputs": [
    {
     "name": "stdout",
     "output_type": "stream",
     "text": [
      "+-----------+-----+\n",
      "| station_id|t_min|\n",
      "+-----------+-----+\n",
      "|ITE00100554| -148|\n",
      "|EZE00100082| -135|\n",
      "+-----------+-----+\n",
      "\n"
     ]
    }
   ],
   "source": [
    "# get historical min temp per station with a simple groupby\n",
    "historical_min_temp = daily_min_temp.groupBy(\"station_id\").agg(\n",
    "    F.min(\"t_min\").alias(\"t_min\")\n",
    ")\n",
    "historical_min_temp.show()"
   ]
  },
  {
   "cell_type": "code",
   "execution_count": 75,
   "metadata": {},
   "outputs": [
    {
     "name": "stdout",
     "output_type": "stream",
     "text": [
      "+-----------+-----+----------+\n",
      "| station_id|t_min|      date|\n",
      "+-----------+-----+----------+\n",
      "|ITE00100554| -148|1800-01-01|\n",
      "|EZE00100082| -135|1800-01-01|\n",
      "+-----------+-----+----------+\n",
      "\n"
     ]
    }
   ],
   "source": [
    "# We want to know which date corresponds to the historical t_min.\n",
    "# To do this, perform an inner join with 'station_id' and 't_min' as keys\n",
    "historical_min_temp = historical_min_temp.join(\n",
    "    daily_min_temp, [\"station_id\", \"t_min\"], \"inner\"\n",
    ")\n",
    "\n",
    "historical_min_temp.show()"
   ]
  },
  {
   "cell_type": "code",
   "execution_count": 76,
   "metadata": {},
   "outputs": [],
   "source": [
    "spark.stop()"
   ]
  }
 ],
 "metadata": {
  "kernelspec": {
   "display_name": "pyspark",
   "language": "python",
   "name": "python3"
  },
  "language_info": {
   "codemirror_mode": {
    "name": "ipython",
    "version": 3
   },
   "file_extension": ".py",
   "mimetype": "text/x-python",
   "name": "python",
   "nbconvert_exporter": "python",
   "pygments_lexer": "ipython3",
   "version": "3.11.5"
  }
 },
 "nbformat": 4,
 "nbformat_minor": 2
}
