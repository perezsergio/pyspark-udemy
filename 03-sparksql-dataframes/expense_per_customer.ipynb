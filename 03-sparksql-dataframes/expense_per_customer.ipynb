{
 "cells": [
  {
   "cell_type": "code",
   "execution_count": 30,
   "metadata": {},
   "outputs": [],
   "source": [
    "from pyspark.sql import SparkSession\n",
    "from pyspark.sql import functions as F\n",
    "\n",
    "spark = SparkSession.builder.appName(\"ExpensePerCustomer\").getOrCreate()"
   ]
  },
  {
   "cell_type": "code",
   "execution_count": 31,
   "metadata": {},
   "outputs": [
    {
     "name": "stdout",
     "output_type": "stream",
     "text": [
      "+-----------+---------------+\n",
      "|customer_id|purchase_amount|\n",
      "+-----------+---------------+\n",
      "|         44|          37.19|\n",
      "|         35|          65.89|\n",
      "|          2|          40.64|\n",
      "|         47|          14.98|\n",
      "|         29|          13.08|\n",
      "+-----------+---------------+\n",
      "only showing top 5 rows\n",
      "\n"
     ]
    }
   ],
   "source": [
    "# read csv\n",
    "orders = spark.read.csv(\"../data/customer-orders.csv\", inferSchema=True)\n",
    "# we only want columns 1 and 3\n",
    "orders = orders.select([\"_c0\", \"_c2\"])\n",
    "# rename columns\n",
    "column_names = [\"customer_id\", \"purchase_amount\"]\n",
    "orders = orders.toDF(*column_names)\n",
    "\n",
    "orders.show(5)"
   ]
  },
  {
   "cell_type": "code",
   "execution_count": 32,
   "metadata": {},
   "outputs": [
    {
     "name": "stdout",
     "output_type": "stream",
     "text": [
      "+-----------+-----------+---------+------------+------------+\n",
      "|customer_id|total_spent|avg_spent|max_purchase|min_purchase|\n",
      "+-----------+-----------+---------+------------+------------+\n",
      "|          0|    5524.95|    47.22|       99.45|        0.35|\n",
      "|          1|     4958.6|    44.67|        96.8|         0.1|\n",
      "|          2|    5994.59|     50.8|       99.54|        1.71|\n",
      "|          3|    4659.63|     51.2|       99.83|        0.73|\n",
      "|          4|    4815.05|    49.64|       96.24|        0.38|\n",
      "+-----------+-----------+---------+------------+------------+\n",
      "only showing top 5 rows\n",
      "\n"
     ]
    }
   ],
   "source": [
    "# Compute aggregate stats of the purchase amount column for each customer\n",
    "customers_summary = (\n",
    "    orders.groupBy(\"customer_id\")\n",
    "    .agg(\n",
    "        F.round(F.sum(\"purchase_amount\"), 2).alias(\"total_spent\"),\n",
    "        F.round(F.mean(\"purchase_amount\"), 2).alias(\"avg_spent\"),\n",
    "        F.round(F.max(\"purchase_amount\"), 2).alias(\"max_purchase\"),\n",
    "        F.round(F.min(\"purchase_amount\"), 2).alias(\"min_purchase\"),\n",
    "    )\n",
    "    .orderBy(\"customer_id\")\n",
    ")\n",
    "\n",
    "customers_summary.show(5)"
   ]
  },
  {
   "cell_type": "code",
   "execution_count": 33,
   "metadata": {},
   "outputs": [],
   "source": [
    "spark.stop()"
   ]
  }
 ],
 "metadata": {
  "kernelspec": {
   "display_name": "pyspark",
   "language": "python",
   "name": "python3"
  },
  "language_info": {
   "codemirror_mode": {
    "name": "ipython",
    "version": 3
   },
   "file_extension": ".py",
   "mimetype": "text/x-python",
   "name": "python",
   "nbconvert_exporter": "python",
   "pygments_lexer": "ipython3",
   "version": "3.11.5"
  }
 },
 "nbformat": 4,
 "nbformat_minor": 2
}
