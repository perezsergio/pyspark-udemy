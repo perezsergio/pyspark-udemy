{
 "cells": [
  {
   "cell_type": "markdown",
   "metadata": {},
   "source": [
    "Exercise: do a word count with dataframes.\n",
    "\n",
    "I have a problem with the exercise statement.\n",
    "Why use dataframes with unstructured data??\n"
   ]
  },
  {
   "cell_type": "code",
   "execution_count": 8,
   "metadata": {},
   "outputs": [],
   "source": [
    "from pyspark.sql import SparkSession\n",
    "from pyspark.sql import functions as F\n",
    "\n",
    "spark = SparkSession.builder.appName(\"WordCount\").getOrCreate()"
   ]
  },
  {
   "cell_type": "code",
   "execution_count": null,
   "metadata": {},
   "outputs": [
    {
     "name": "stdout",
     "output_type": "stream",
     "text": [
      "+--------------------+\n",
      "|               value|\n",
      "+--------------------+\n",
      "|Self-Employment: ...|\n",
      "|Achieving Financi...|\n",
      "|       By Frank Kane|\n",
      "|                    |\n",
      "|                    |\n",
      "|                    |\n",
      "|Copyright � 2015 ...|\n",
      "|All rights reserv...|\n",
      "|                    |\n",
      "|                    |\n",
      "|            CONTENTS|\n",
      "|          Disclaimer|\n",
      "|             Preface|\n",
      "|Part I: Making th...|\n",
      "|  Overcoming Inertia|\n",
      "|     Fear of Failure|\n",
      "|Career Indoctrina...|\n",
      "|The Carrot on a S...|\n",
      "|      Ego Protection|\n",
      "|Your Employer as ...|\n",
      "+--------------------+\n",
      "only showing top 20 rows\n",
      "\n"
     ]
    }
   ],
   "source": [
    "book = spark.read.text(\"../data/Book\")\n",
    "book.show()"
   ]
  }
 ],
 "metadata": {
  "kernelspec": {
   "display_name": "pyspark",
   "language": "python",
   "name": "python3"
  },
  "language_info": {
   "codemirror_mode": {
    "name": "ipython",
    "version": 3
   },
   "file_extension": ".py",
   "mimetype": "text/x-python",
   "name": "python",
   "nbconvert_exporter": "python",
   "pygments_lexer": "ipython3",
   "version": "3.11.5"
  }
 },
 "nbformat": 4,
 "nbformat_minor": 2
}
