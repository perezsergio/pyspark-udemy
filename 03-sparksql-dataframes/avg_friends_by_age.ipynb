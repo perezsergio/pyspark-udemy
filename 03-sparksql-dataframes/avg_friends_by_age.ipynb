{
 "cells": [
  {
   "cell_type": "code",
   "execution_count": 2,
   "metadata": {},
   "outputs": [
    {
     "name": "stderr",
     "output_type": "stream",
     "text": [
      "23/12/14 17:21:08 WARN Utils: Your hostname, perezs-zeenbook resolves to a loopback address: 127.0.1.1; using 192.168.49.205 instead (on interface wlo1)\n",
      "23/12/14 17:21:08 WARN Utils: Set SPARK_LOCAL_IP if you need to bind to another address\n",
      "Setting default log level to \"WARN\".\n",
      "To adjust logging level use sc.setLogLevel(newLevel). For SparkR, use setLogLevel(newLevel).\n",
      "23/12/14 17:21:08 WARN NativeCodeLoader: Unable to load native-hadoop library for your platform... using builtin-java classes where applicable\n"
     ]
    }
   ],
   "source": [
    "from pyspark.sql import SparkSession\n",
    "from pyspark.sql import functions as F\n",
    "\n",
    "spark = SparkSession.builder.appName(\"FakeFriendsQueries\").getOrCreate()"
   ]
  },
  {
   "cell_type": "code",
   "execution_count": 3,
   "metadata": {},
   "outputs": [
    {
     "name": "stdout",
     "output_type": "stream",
     "text": [
      "+---+-------+\n",
      "|age|friends|\n",
      "+---+-------+\n",
      "| 33|    385|\n",
      "| 26|      2|\n",
      "| 55|    221|\n",
      "| 40|    465|\n",
      "| 68|     21|\n",
      "+---+-------+\n",
      "only showing top 5 rows\n",
      "\n"
     ]
    }
   ],
   "source": [
    "# read csv\n",
    "friends = spark.read.csv(\n",
    "    \"../data/fakefriends.csv\",\n",
    "    inferSchema=True,\n",
    ")\n",
    "\n",
    "# rename columns\n",
    "col_names = [\"index\", \"name\", \"age\", \"friends\"]\n",
    "friends = friends.toDF(*col_names)\n",
    "\n",
    "# we only care about age and friends\n",
    "friends = friends.select(\"age\", \"friends\")\n",
    "\n",
    "friends.show(5)"
   ]
  },
  {
   "cell_type": "code",
   "execution_count": 4,
   "metadata": {},
   "outputs": [
    {
     "name": "stdout",
     "output_type": "stream",
     "text": [
      "+---+------------------+-----------+\n",
      "|age|      avg(friends)|avg_friends|\n",
      "+---+------------------+-----------+\n",
      "| 18|           343.375|      343.4|\n",
      "| 19|213.27272727272728|      213.3|\n",
      "| 20|             165.0|      165.0|\n",
      "| 21|           350.875|      350.9|\n",
      "| 22|206.42857142857142|      206.4|\n",
      "+---+------------------+-----------+\n",
      "only showing top 5 rows\n",
      "\n"
     ]
    }
   ],
   "source": [
    "# query avg friends per age\n",
    "avg_friends_per_age = friends.groupBy(\"age\").mean(\"friends\")\n",
    "# round avg column and rename it\n",
    "avg_friends_per_age = avg_friends_per_age.withColumn(\n",
    "    \"avg_friends\", F.round(avg_friends_per_age[\"avg(friends)\"], 1)\n",
    ")\n",
    "# sort by age\n",
    "avg_friends_per_age = avg_friends_per_age.sort(\"age\")\n",
    "avg_friends_per_age.show(5)"
   ]
  },
  {
   "cell_type": "code",
   "execution_count": 5,
   "metadata": {},
   "outputs": [],
   "source": [
    "spark.stop()"
   ]
  }
 ],
 "metadata": {
  "kernelspec": {
   "display_name": "pyspark",
   "language": "python",
   "name": "python3"
  },
  "language_info": {
   "codemirror_mode": {
    "name": "ipython",
    "version": 3
   },
   "file_extension": ".py",
   "mimetype": "text/x-python",
   "name": "python",
   "nbconvert_exporter": "python",
   "pygments_lexer": "ipython3",
   "version": "3.11.5"
  }
 },
 "nbformat": 4,
 "nbformat_minor": 2
}
