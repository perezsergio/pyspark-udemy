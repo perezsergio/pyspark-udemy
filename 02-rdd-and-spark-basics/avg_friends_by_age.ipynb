{
 "cells": [
  {
   "cell_type": "code",
   "execution_count": 177,
   "metadata": {},
   "outputs": [
    {
     "data": {
      "text/plain": [
       "['0,Will,33,385', '1,Jean-Luc,26,2']"
      ]
     },
     "execution_count": 177,
     "metadata": {},
     "output_type": "execute_result"
    }
   ],
   "source": [
    "from pyspark import SparkConf, SparkContext\n",
    "from re import split\n",
    "\n",
    "# Create SparkContext object\n",
    "conf = SparkConf().setMaster(\"local\").setAppName(\"RatingsValueCounts\")\n",
    "sc = SparkContext(conf=conf)\n",
    "\n",
    "# Create lines RDD from data file\n",
    "data_file_path = \"../data/fakefriends.csv\"\n",
    "lines = sc.textFile(data_file_path)\n",
    "lines.take(2)"
   ]
  },
  {
   "cell_type": "code",
   "execution_count": 174,
   "metadata": {},
   "outputs": [
    {
     "data": {
      "text/plain": [
       "[(33, 385), (26, 2)]"
      ]
     },
     "execution_count": 174,
     "metadata": {},
     "output_type": "execute_result"
    }
   ],
   "source": [
    "def parse_line(line: str):\n",
    "    row = split(\",\", line)\n",
    "    age = int(row[2])\n",
    "    num_friends = int(row[3])\n",
    "    return (age, num_friends)\n",
    "\n",
    "\n",
    "age_friends = lines.map(parse_line)\n",
    "age_friends.take(2)"
   ]
  },
  {
   "cell_type": "code",
   "execution_count": 175,
   "metadata": {},
   "outputs": [
    {
     "data": {
      "text/plain": [
       "[(33, 325.3333333333333), (26, 242.05882352941177)]"
      ]
     },
     "execution_count": 175,
     "metadata": {},
     "output_type": "execute_result"
    }
   ],
   "source": [
    "mean_friends_per_age = (\n",
    "    age_friends.mapValues(lambda x: [x, 1])\n",
    "    .reduceByKey(\n",
    "        lambda x, y: [x[0] + y[0], x[1] + y[1]]\n",
    "    )  # [[x1,1], [x2, 1], ...] -> [sum, count]\n",
    "    .mapValues(lambda x: x[0] / x[1])  # [sum. count] -> mean\n",
    ")\n",
    "mean_friends_per_age.take(2)"
   ]
  },
  {
   "cell_type": "code",
   "execution_count": 178,
   "metadata": {},
   "outputs": [],
   "source": [
    "sc.stop()"
   ]
  }
 ],
 "metadata": {
  "kernelspec": {
   "display_name": "pyspark",
   "language": "python",
   "name": "python3"
  },
  "language_info": {
   "codemirror_mode": {
    "name": "ipython",
    "version": 3
   },
   "file_extension": ".py",
   "mimetype": "text/x-python",
   "name": "python",
   "nbconvert_exporter": "python",
   "pygments_lexer": "ipython3",
   "version": "3.11.5"
  }
 },
 "nbformat": 4,
 "nbformat_minor": 2
}
