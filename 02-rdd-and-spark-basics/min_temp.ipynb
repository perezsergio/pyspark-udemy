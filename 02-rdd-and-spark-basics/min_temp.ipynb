{
 "cells": [
  {
   "cell_type": "code",
   "execution_count": 145,
   "metadata": {},
   "outputs": [
    {
     "data": {
      "text/plain": [
       "['ITE00100554,18000101,TMAX,-75,,,E,', 'ITE00100554,18000101,TMIN,-148,,,E,']"
      ]
     },
     "execution_count": 145,
     "metadata": {},
     "output_type": "execute_result"
    }
   ],
   "source": [
    "from pyspark import SparkConf, SparkContext\n",
    "from re import split\n",
    "\n",
    "# Create SparkContext object\n",
    "conf = SparkConf().setMaster(\"local\").setAppName(\"RatingsValueCounts\")\n",
    "sc = SparkContext(conf=conf)\n",
    "\n",
    "# Create lines RDD from data file\n",
    "data_file_path = \"../data/1800.csv\"\n",
    "lines = sc.textFile(data_file_path)\n",
    "lines.take(2)"
   ]
  },
  {
   "cell_type": "code",
   "execution_count": 146,
   "metadata": {},
   "outputs": [
    {
     "data": {
      "text/plain": [
       "['ITE00100554,18000101,TMIN,-148,,,E,', 'EZE00100082,18000101,TMIN,-135,,,E,']"
      ]
     },
     "execution_count": 146,
     "metadata": {},
     "output_type": "execute_result"
    }
   ],
   "source": [
    "tmin_lines = lines.filter(lambda x: \"TMIN\" in x)\n",
    "tmin_lines.take(2)"
   ]
  },
  {
   "cell_type": "code",
   "execution_count": 147,
   "metadata": {},
   "outputs": [
    {
     "data": {
      "text/plain": [
       "[('ITE00100554', ('18000101', -14.8)),\n",
       " ('EZE00100082', ('18000101', -13.5)),\n",
       " ('ITE00100554', ('18000102', -12.5))]"
      ]
     },
     "execution_count": 147,
     "metadata": {},
     "output_type": "execute_result"
    }
   ],
   "source": [
    "def parse_lines(line: str) -> tuple[str, tuple[str, int]]:\n",
    "    row = split(\",\", line)\n",
    "    station_id = row[0]\n",
    "    date = row[1]\n",
    "    temp = int(row[3]) * 0.1\n",
    "    return (station_id, (date, temp))\n",
    "\n",
    "\n",
    "daily_tmin_at_station = tmin_lines.map(parse_lines)\n",
    "daily_tmin_at_station.take(3)"
   ]
  },
  {
   "cell_type": "code",
   "execution_count": 148,
   "metadata": {},
   "outputs": [
    {
     "data": {
      "text/plain": [
       "[('ITE00100554', ('18000101', -14.8)), ('EZE00100082', ('18000101', -13.5))]"
      ]
     },
     "execution_count": 148,
     "metadata": {},
     "output_type": "execute_result"
    }
   ],
   "source": [
    "historical_tmin = daily_tmin_at_station.reduceByKey(\n",
    "    lambda x, y: x if x[1] < y[1] else y\n",
    ")\n",
    "historical_tmin.collect()"
   ]
  },
  {
   "cell_type": "code",
   "execution_count": 149,
   "metadata": {},
   "outputs": [],
   "source": [
    "sc.stop()"
   ]
  }
 ],
 "metadata": {
  "kernelspec": {
   "display_name": "pyspark",
   "language": "python",
   "name": "python3"
  },
  "language_info": {
   "codemirror_mode": {
    "name": "ipython",
    "version": 3
   },
   "file_extension": ".py",
   "mimetype": "text/x-python",
   "name": "python",
   "nbconvert_exporter": "python",
   "pygments_lexer": "ipython3",
   "version": "3.11.5"
  }
 },
 "nbformat": 4,
 "nbformat_minor": 2
}
