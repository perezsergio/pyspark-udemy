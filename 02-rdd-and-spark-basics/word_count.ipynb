{
 "cells": [
  {
   "cell_type": "code",
   "execution_count": 6,
   "metadata": {},
   "outputs": [
    {
     "data": {
      "text/plain": [
       "['Self-Employment: Building an Internet Business of One',\n",
       " 'Achieving Financial and Personal Freedom through a Lifestyle Technology Business']"
      ]
     },
     "execution_count": 6,
     "metadata": {},
     "output_type": "execute_result"
    }
   ],
   "source": [
    "from pyspark import SparkConf, SparkContext\n",
    "from re import split\n",
    "\n",
    "# Create SparkContext object\n",
    "conf = SparkConf().setMaster(\"local\").setAppName(\"RatingsValueCounts\")\n",
    "sc = SparkContext(conf=conf)\n",
    "\n",
    "# Create lines RDD from data file\n",
    "data_file_path = \"../data/Book\"\n",
    "lines = sc.textFile(data_file_path)\n",
    "lines.take(2)"
   ]
  },
  {
   "cell_type": "code",
   "execution_count": 42,
   "metadata": {},
   "outputs": [
    {
     "data": {
      "text/plain": [
       "['selfemployment', 'building', 'an', 'internet']"
      ]
     },
     "execution_count": 42,
     "metadata": {},
     "output_type": "execute_result"
    }
   ],
   "source": [
    "from string import punctuation\n",
    "\n",
    "\n",
    "def parse_line(line: str) -> list[str]:\n",
    "    return (\n",
    "        line.translate(str.maketrans(\"\", \"\", punctuation))  # remove punctuation\n",
    "        .lower()  # to lowercase\n",
    "        .split()  # split string to list of words\n",
    "    )\n",
    "\n",
    "\n",
    "words = lines.flatMap(parse_line)\n",
    "words.take(4)"
   ]
  },
  {
   "cell_type": "code",
   "execution_count": 49,
   "metadata": {},
   "outputs": [
    {
     "data": {
      "text/plain": [
       "[('to', 1819),\n",
       " ('you', 1503),\n",
       " ('your', 1413),\n",
       " ('the', 1285),\n",
       " ('a', 1186),\n",
       " ('of', 961),\n",
       " ('and', 926),\n",
       " ('that', 678),\n",
       " ('in', 612),\n",
       " ('is', 557),\n",
       " ('for', 533),\n",
       " ('it', 459),\n",
       " ('on', 425),\n",
       " ('are', 423),\n",
       " ('if', 409)]"
      ]
     },
     "execution_count": 49,
     "metadata": {},
     "output_type": "execute_result"
    }
   ],
   "source": [
    "word_count = words.map(lambda x: (x, 1)).reduceByKey(lambda x, y: x + y)\n",
    "sorted_word_count = word_count.sortBy(lambda x: x[1], ascending=False)\n",
    "sorted_word_count.take(15)"
   ]
  },
  {
   "cell_type": "code",
   "execution_count": 5,
   "metadata": {},
   "outputs": [],
   "source": [
    "sc.stop()"
   ]
  }
 ],
 "metadata": {
  "kernelspec": {
   "display_name": "pyspark",
   "language": "python",
   "name": "python3"
  },
  "language_info": {
   "codemirror_mode": {
    "name": "ipython",
    "version": 3
   },
   "file_extension": ".py",
   "mimetype": "text/x-python",
   "name": "python",
   "nbconvert_exporter": "python",
   "pygments_lexer": "ipython3",
   "version": "3.11.5"
  }
 },
 "nbformat": 4,
 "nbformat_minor": 2
}
