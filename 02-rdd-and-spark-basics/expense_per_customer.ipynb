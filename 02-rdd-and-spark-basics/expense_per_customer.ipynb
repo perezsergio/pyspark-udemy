{
 "cells": [
  {
   "cell_type": "code",
   "execution_count": 19,
   "metadata": {},
   "outputs": [
    {
     "data": {
      "text/plain": [
       "['44,8602,37.19', '35,5368,65.89']"
      ]
     },
     "execution_count": 19,
     "metadata": {},
     "output_type": "execute_result"
    }
   ],
   "source": [
    "from pyspark import SparkConf, SparkContext\n",
    "from re import split\n",
    "\n",
    "# Create SparkContext object\n",
    "conf = SparkConf().setMaster(\"local\").setAppName(\"RatingsValueCounts\")\n",
    "sc = SparkContext(conf=conf)\n",
    "\n",
    "# Create lines RDD from data file\n",
    "data_file_path = \"../data/customer-orders.csv\"\n",
    "lines = sc.textFile(data_file_path)\n",
    "lines.take(2)"
   ]
  },
  {
   "cell_type": "markdown",
   "metadata": {},
   "source": [
    "line = ('customer_id', 'product_id', 'product_prize')\n"
   ]
  },
  {
   "cell_type": "code",
   "execution_count": 20,
   "metadata": {},
   "outputs": [
    {
     "data": {
      "text/plain": [
       "[('44', 37.19), ('35', 65.89), ('2', 40.64)]"
      ]
     },
     "execution_count": 20,
     "metadata": {},
     "output_type": "execute_result"
    }
   ],
   "source": [
    "def parse_line(line: str) -> tuple[str, float]:\n",
    "    row = line.split(\",\")\n",
    "    customer_id = row[0]\n",
    "    amount_spent = float(row[2])\n",
    "    return (customer_id, amount_spent)\n",
    "\n",
    "\n",
    "customer_expenses = lines.map(parse_line)\n",
    "customer_expenses.take(3)"
   ]
  },
  {
   "cell_type": "code",
   "execution_count": 21,
   "metadata": {},
   "outputs": [
    {
     "data": {
      "text/plain": [
       "[('68', 6375.45), ('73', 6206.2), ('39', 6193.11)]"
      ]
     },
     "execution_count": 21,
     "metadata": {},
     "output_type": "execute_result"
    }
   ],
   "source": [
    "total_spent_per_customer = (\n",
    "    customer_expenses.reduceByKey(lambda x, y: x + y)  # sum of values for each key\n",
    "    .mapValues(lambda x: round(x, 2))  # round values to 2 decimals\n",
    "    .sortBy(lambda x: x[1], ascending=False)  # sort by value\n",
    ")\n",
    "\n",
    "total_spent_per_customer.take(3)"
   ]
  },
  {
   "cell_type": "code",
   "execution_count": 22,
   "metadata": {},
   "outputs": [],
   "source": [
    "sc.stop()"
   ]
  }
 ],
 "metadata": {
  "kernelspec": {
   "display_name": "pyspark",
   "language": "python",
   "name": "python3"
  },
  "language_info": {
   "codemirror_mode": {
    "name": "ipython",
    "version": 3
   },
   "file_extension": ".py",
   "mimetype": "text/x-python",
   "name": "python",
   "nbconvert_exporter": "python",
   "pygments_lexer": "ipython3",
   "version": "3.11.5"
  }
 },
 "nbformat": 4,
 "nbformat_minor": 2
}
