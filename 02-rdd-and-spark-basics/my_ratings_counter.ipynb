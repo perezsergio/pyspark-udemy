{
 "cells": [
  {
   "cell_type": "code",
   "execution_count": 14,
   "metadata": {},
   "outputs": [
    {
     "data": {
      "text/plain": [
       "['196\\t242\\t3\\t881250949', '186\\t302\\t3\\t891717742']"
      ]
     },
     "execution_count": 14,
     "metadata": {},
     "output_type": "execute_result"
    }
   ],
   "source": [
    "from re import split\n",
    "from pathlib import Path\n",
    "from pyspark import SparkConf, SparkContext\n",
    "\n",
    "# Create SparkContext object\n",
    "conf = SparkConf().setMaster(\"local\").setAppName(\"RatingsValueCounts\")\n",
    "sc = SparkContext(conf=conf)\n",
    "\n",
    "# Create RDD from movie data\n",
    "data_file_path = \"../data/ml-100k/u.data\"\n",
    "lines = sc.textFile(data_file_path)\n",
    "lines.take(2)"
   ]
  },
  {
   "cell_type": "code",
   "execution_count": 15,
   "metadata": {},
   "outputs": [
    {
     "data": {
      "text/plain": [
       "['3', '3']"
      ]
     },
     "execution_count": 15,
     "metadata": {},
     "output_type": "execute_result"
    }
   ],
   "source": [
    "# Get ratings data\n",
    "ratings = lines.map(lambda x: split(\"\\t\", x)[2])\n",
    "ratings.take(2)"
   ]
  },
  {
   "cell_type": "code",
   "execution_count": 16,
   "metadata": {},
   "outputs": [
    {
     "data": {
      "text/plain": [
       "{'1': 6110, '2': 11370, '3': 27145, '4': 34174, '5': 21201}"
      ]
     },
     "execution_count": 16,
     "metadata": {},
     "output_type": "execute_result"
    }
   ],
   "source": [
    "# Value counts of ratings\n",
    "def sorted_dict(x: dict) -> dict:\n",
    "    return {key: x[key] for key in sorted(x)}\n",
    "\n",
    "\n",
    "ratings_count = ratings.countByValue()\n",
    "ratings_count_sorted = sorted_dict(ratings_count)\n",
    "ratings_count_sorted"
   ]
  },
  {
   "cell_type": "code",
   "execution_count": 17,
   "metadata": {},
   "outputs": [],
   "source": [
    "# Stop Spark context\n",
    "sc.stop()"
   ]
  }
 ],
 "metadata": {
  "language_info": {
   "name": "python"
  }
 },
 "nbformat": 4,
 "nbformat_minor": 2
}
